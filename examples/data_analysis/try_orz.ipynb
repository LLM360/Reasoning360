{
 "cells": [
  {
   "cell_type": "code",
   "execution_count": 1,
   "metadata": {},
   "outputs": [
    {
     "name": "stderr",
     "output_type": "stream",
     "text": [
      "/mbz/users/shibo.hao/miniforge3/lib/python3.12/site-packages/tqdm/auto.py:21: TqdmWarning: IProgress not found. Please update jupyter and ipywidgets. See https://ipywidgets.readthedocs.io/en/stable/user_install.html\n",
      "  from .autonotebook import tqdm as notebook_tqdm\n",
      "2025-02-27 09:17:24,955\tINFO util.py:154 -- Missing packages: ['ipywidgets']. Run `pip install -U ipywidgets`, then restart the notebook server for rich notebook output.\n"
     ]
    }
   ],
   "source": [
    "\n",
    "import os\n",
    "import datasets\n",
    "from typing import Dict, List, Optional, Any, Union\n",
    "import enum\n",
    "import argparse\n",
    "import pandas as pd\n",
    "import json\n",
    "\n",
    "from verl.utils.hdfs_io import copy, makedirs\n",
    "from verl.utils.reward_score.math import remove_boxed, last_boxed_only_string\n",
    "\n",
    "\n",
    "class TrainDataset(enum.Enum):\n",
    "    \"\"\"Enum for training datasets.\n",
    "\n",
    "    Contains identifiers for various math problem datasets used during training.\n",
    "    \"\"\"\n",
    "\n",
    "    AIME = \"AIME\"  # American Invitational Mathematics Examination\n",
    "    AMC = \"AMC\"  # American Mathematics Competition\n",
    "    OMNI_MATH = \"OMNI_MATH\"  # Omni Math\n",
    "    NUMINA_OLYMPIAD = \"OLYMPIAD\"  # Unique Olympiad problems from NUMINA\n",
    "    MATH = \"MATH\"  # Dan Hendrycks Math Problems\n",
    "    STILL = \"STILL\"  # STILL dataset\n",
    "    DEEPSCALER = \"DEEPSCALER\"  # DeepScaler (AIME, AMC, OMNI_MATH, MATH, STILL)\n",
    "\n",
    "\n",
    "class TestDataset(enum.Enum):\n",
    "    \"\"\"Enum for testing/evaluation datasets.\n",
    "\n",
    "    Contains identifiers for datasets used to evaluate model performance.\n",
    "    \"\"\"\n",
    "\n",
    "    AIME = \"AIME\"  # American Invitational Mathematics Examination\n",
    "    AMC = \"AMC\"  # American Mathematics Competition\n",
    "    MATH = \"MATH\"  # Math 500 problems\n",
    "    MINERVA = \"MINERVA\"  # Minerva dataset\n",
    "    OLYMPIAD_BENCH = \"OLYMPIAD_BENCH\"  # Olympiad benchmark problems\n",
    "\n",
    "\n",
    "\"\"\"Type alias for either training or testing dataset types.\"\"\"\n",
    "Dataset = Union[TrainDataset, TestDataset]\n",
    "\n",
    "\n",
    "def load_dataset(dataset: Dataset) -> List[Dict[str, Any]]:\n",
    "    \"\"\"Load a dataset from a JSON file.\n",
    "\n",
    "    Loads and parses a JSON dataset file based on the provided dataset enum.\n",
    "    The file path is constructed based on whether it's a training or testing dataset.\n",
    "\n",
    "    Args:\n",
    "        dataset: A Dataset enum value specifying which dataset to load.\n",
    "\n",
    "    Returns:\n",
    "        List[Dict[str, Any]]: A list of dictionaries containing the dataset records.\n",
    "            Each dictionary represents one example in the dataset.\n",
    "\n",
    "    Raises:\n",
    "        ValueError: If the dataset file cannot be found, contains invalid JSON,\n",
    "            or encounters other file access errors.\n",
    "\n",
    "    Example:\n",
    "        >>> load_dataset(TrainDataset.AIME)\n",
    "        [{'problem': 'Find x...', 'solution': '42', ...}, ...]\n",
    "    \"\"\"\n",
    "    dataset_name = dataset.value.lower()\n",
    "    data_dir = \"train\" if isinstance(dataset, TrainDataset) else \"test\"\n",
    "\n",
    "    current_dir = os.path.dirname(os.path.realpath(__file__))\n",
    "    file_path = os.path.join(data_dir, f\"{dataset_name}.json\")\n",
    "    file_path = os.path.join(current_dir, file_path)\n",
    "\n",
    "    if not os.path.exists(file_path):\n",
    "        raise ValueError(f\"Dataset file not found: {file_path}\")\n",
    "\n",
    "    try:\n",
    "        with open(file_path, \"r\", encoding=\"utf-8\") as file:\n",
    "            data = json.load(file)\n",
    "        return data\n",
    "    except json.JSONDecodeError:\n",
    "        raise ValueError(f\"Invalid JSON format in {file_path}\")\n",
    "    except Exception as exc:  # pylint: disable=broad-except\n",
    "        raise ValueError(f\"Error loading dataset: {exc}\") from exc\n"
   ]
  },
  {
   "cell_type": "code",
   "execution_count": 3,
   "metadata": {},
   "outputs": [
    {
     "name": "stdout",
     "output_type": "stream",
     "text": [
      "Loading the agentica-org/DeepScaleR-Preview-Dataset dataset from huggingface...\n",
      "Loading the ['nanoverl/minerva', 'nanoverl/aime', 'nanoverl/amc', 'nanoverl/olympiad_bench', 'nanoverl/math'] dataset from huggingface...\n"
     ]
    }
   ],
   "source": [
    "train_data_source = \"agentica-org/DeepScaleR-Preview-Dataset\"\n",
    "print(f\"Loading the {train_data_source} dataset from huggingface...\", flush=True)\n",
    "test_data_sources = [\n",
    "    \"nanoverl/minerva\",\n",
    "    \"nanoverl/aime\",\n",
    "    \"nanoverl/amc\",\n",
    "    \"nanoverl/olympiad_bench\",\n",
    "    \"nanoverl/math\",\n",
    "]\n",
    "print(f\"Loading the {test_data_sources} dataset from huggingface...\", flush=True)\n",
    "train_dataset = datasets.load_dataset(\n",
    "    train_data_source, trust_remote_code=True, split=\"train\"\n",
    ")\n",
    "test_datasets = [\n",
    "    datasets.load_dataset(test_data_source, trust_remote_code=True, split=\"test\")\n",
    "    for test_data_source in test_data_sources\n",
    "]\n",
    "\n",
    "instruction_following = (\n",
    "    \"Let's think step by step and output the final answer within \\\\boxed{}.\"\n",
    ")"
   ]
  },
  {
   "cell_type": "code",
   "execution_count": 5,
   "metadata": {},
   "outputs": [
    {
     "name": "stderr",
     "output_type": "stream",
     "text": [
      "Map:   0%|          | 34/40315 [00:00<02:32, 263.77 examples/s]"
     ]
    },
    {
     "name": "stdout",
     "output_type": "stream",
     "text": [
      "==========agentica-org/DeepScaleR-Preview-Dataset train 0==========\n",
      "{'data_source': 'agentica-org/DeepScaleR-Preview-Dataset', 'prompt': [{'role': 'user', 'content': \"The operation $\\\\otimes$ is defined for all nonzero numbers by $a \\\\otimes b = \\\\frac{a^{2}}{b}$. Determine $[(1 \\\\otimes 2) \\\\otimes 3] - [1 \\\\otimes (2 \\\\otimes 3)]$. Let's think step by step and output the final answer within \\\\boxed{}.\"}], 'ability': 'math', 'reward_model': {'style': 'rule', 'ground_truth': '-\\\\frac{2}{3}'}, 'extra_info': {'split': 'train', 'index': 0}}\n"
     ]
    },
    {
     "name": "stderr",
     "output_type": "stream",
     "text": [
      "Map: 100%|██████████| 40315/40315 [00:01<00:00, 30189.74 examples/s]\n"
     ]
    }
   ],
   "source": [
    "def make_map_fn(split, data_source):\n",
    "\n",
    "    def process_fn(example, idx):\n",
    "        question = example.pop(\"problem\")\n",
    "\n",
    "        question = question + \" \" + instruction_following\n",
    "\n",
    "        answer = example.pop(\"answer\")\n",
    "        data = {\n",
    "            \"data_source\": data_source,\n",
    "            \"prompt\": [{\"role\": \"user\", \"content\": question}],\n",
    "            \"ability\": \"math\",\n",
    "            \"reward_model\": {\"style\": \"rule\", \"ground_truth\": answer},\n",
    "            \"extra_info\": {\"split\": split, \"index\": idx},\n",
    "        }\n",
    "        if idx == 0:\n",
    "            print(\"=\" * 10 + f\"{data_source} {split} {idx}\" + \"=\" * 10)\n",
    "            print(data)\n",
    "        return data\n",
    "\n",
    "    return process_fn\n",
    "\n",
    "train_data = train_dataset.map(\n",
    "    function=make_map_fn(\"train\", train_data_source), with_indices=True\n",
    ")"
   ]
  },
  {
   "cell_type": "code",
   "execution_count": 8,
   "metadata": {},
   "outputs": [
    {
     "data": {
      "text/plain": [
       "[{'content': \"The operation $\\\\otimes$ is defined for all nonzero numbers by $a \\\\otimes b = \\\\frac{a^{2}}{b}$. Determine $[(1 \\\\otimes 2) \\\\otimes 3] - [1 \\\\otimes (2 \\\\otimes 3)]$. Let's think step by step and output the final answer within \\\\boxed{}.\",\n",
       "  'role': 'user'}]"
      ]
     },
     "execution_count": 8,
     "metadata": {},
     "output_type": "execute_result"
    }
   ],
   "source": [
    "train_data[0]['prompt']"
   ]
  },
  {
   "cell_type": "code",
   "execution_count": 10,
   "metadata": {},
   "outputs": [
    {
     "data": {
      "text/plain": [
       "{'ground_truth': '-\\\\frac{2}{3}', 'style': 'rule'}"
      ]
     },
     "execution_count": 10,
     "metadata": {},
     "output_type": "execute_result"
    }
   ],
   "source": [
    "train_data[0]['reward_model']"
   ]
  },
  {
   "cell_type": "code",
   "execution_count": 11,
   "metadata": {},
   "outputs": [
    {
     "name": "stdout",
     "output_type": "stream",
     "text": [
      "--2025-02-27 09:21:46--  https://raw.githubusercontent.com/Open-Reasoner-Zero/Open-Reasoner-Zero/refs/heads/main/data/orz_math_57k_collected.json\n",
      "Resolving raw.githubusercontent.com (raw.githubusercontent.com)... 2606:50c0:8001::154, 2606:50c0:8002::154, 2606:50c0:8003::154, ...\n",
      "Connecting to raw.githubusercontent.com (raw.githubusercontent.com)|2606:50c0:8001::154|:443... connected.\n",
      "HTTP request sent, awaiting response... 200 OK\n",
      "Length: 24529637 (23M) [text/plain]\n",
      "Saving to: ‘orz_math_57k_collected.json’\n",
      "\n",
      "orz_math_57k_collec 100%[===================>]  23.39M  --.-KB/s    in 0.07s   \n",
      "\n",
      "2025-02-27 09:21:47 (356 MB/s) - ‘orz_math_57k_collected.json’ saved [24529637/24529637]\n",
      "\n"
     ]
    }
   ],
   "source": [
    "!wget https://raw.githubusercontent.com/Open-Reasoner-Zero/Open-Reasoner-Zero/refs/heads/main/data/orz_math_57k_collected.json"
   ]
  },
  {
   "cell_type": "code",
   "execution_count": 13,
   "metadata": {},
   "outputs": [
    {
     "data": {
      "text/plain": [
       "'\\n[\\n  [\\n    {\\n      \"from\": \"human\",\\n      \"value\": \"$P(x)$ is a polynomial of degree $3n$ such that\\n\\\\begin{eqnarray*} P(0) = P(3) = \\\\cdots &=& P(3n) = 2, \\\\\\\\ P(1) = P(4) = \\\\cdots &=& P(3n-2) = 1, \\\\\\\\ P(2) = P(5) = \\\\cdots &=& P(3n-1) = 0, \\\\quad\\\\text{ and }\\\\\\\\ && P(3n+1) = 730.\\\\end{eqnarray*}\\nDetermine $n$.\"\\n    },\\n    {\\n      \"from\": \"assistant\",\\n      \"ground_truth\": {\\n        \"value\": \"n = 4\"\\n      }\\n    }\\n  ],\\n  [\\n    {\\n      \"from\": \"human\",\\n      \"value\": \"Diameter $AB$ of a circle has length a $2$-digit integer (base ten). Reversing the digits gives the length of the perpendicular chord $CD$. The distance from their intersection point $H$ to the center $O$ is a positive rational number. Determine the length of $AB$.\"\\n    },\\n    {\\n      \"from\": \"assistant\",\\n      \"ground_truth\": {\\n        \"value\": \"65\"\\n      }\\n    }\\n  ]\\n]\\n'"
      ]
     },
     "execution_count": 13,
     "metadata": {},
     "output_type": "execute_result"
    }
   ],
   "source": [
    "# the data format is like this:\n",
    "\"\"\"\n",
    "[\n",
    "  [\n",
    "    {\n",
    "      \"from\": \"human\",\n",
    "      \"value\": \"$P(x)$ is a polynomial of degree $3n$ such that\\n\\\\begin{eqnarray*} P(0) = P(3) = \\\\cdots &=& P(3n) = 2, \\\\\\\\ P(1) = P(4) = \\\\cdots &=& P(3n-2) = 1, \\\\\\\\ P(2) = P(5) = \\\\cdots &=& P(3n-1) = 0, \\\\quad\\\\text{ and }\\\\\\\\ && P(3n+1) = 730.\\\\end{eqnarray*}\\nDetermine $n$.\"\n",
    "    },\n",
    "    {\n",
    "      \"from\": \"assistant\",\n",
    "      \"ground_truth\": {\n",
    "        \"value\": \"n = 4\"\n",
    "      }\n",
    "    }\n",
    "  ],\n",
    "  [\n",
    "    {\n",
    "      \"from\": \"human\",\n",
    "      \"value\": \"Diameter $AB$ of a circle has length a $2$-digit integer (base ten). Reversing the digits gives the length of the perpendicular chord $CD$. The distance from their intersection point $H$ to the center $O$ is a positive rational number. Determine the length of $AB$.\"\n",
    "    },\n",
    "    {\n",
    "      \"from\": \"assistant\",\n",
    "      \"ground_truth\": {\n",
    "        \"value\": \"65\"\n",
    "      }\n",
    "    }\n",
    "  ]\n",
    "]\n",
    "\"\"\""
   ]
  },
  {
   "cell_type": "code",
   "execution_count": null,
   "metadata": {},
   "outputs": [],
   "source": []
  }
 ],
 "metadata": {
  "kernelspec": {
   "display_name": "base",
   "language": "python",
   "name": "python3"
  },
  "language_info": {
   "codemirror_mode": {
    "name": "ipython",
    "version": 3
   },
   "file_extension": ".py",
   "mimetype": "text/x-python",
   "name": "python",
   "nbconvert_exporter": "python",
   "pygments_lexer": "ipython3",
   "version": "3.12.8"
  }
 },
 "nbformat": 4,
 "nbformat_minor": 2
}
