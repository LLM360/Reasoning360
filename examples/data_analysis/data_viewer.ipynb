{
 "cells": [
  {
   "cell_type": "code",
   "execution_count": null,
   "metadata": {},
   "outputs": [],
   "source": [
    "import json"
   ]
  },
  {
   "cell_type": "code",
   "execution_count": 3,
   "metadata": {},
   "outputs": [],
   "source": [
    "data = json.load(open(\"orz_math_57k_collected.json\"))"
   ]
  },
  {
   "cell_type": "code",
   "execution_count": 17,
   "metadata": {},
   "outputs": [
    {
     "name": "stdout",
     "output_type": "stream",
     "text": [
      "$$E = mc^2$$\n",
      "--------------------------------\n"
     ]
    },
    {
     "data": {
      "text/latex": [
       "$\\displaystyle E = mc^2$"
      ],
      "text/plain": [
       "<IPython.core.display.Math object>"
      ]
     },
     "metadata": {},
     "output_type": "display_data"
    }
   ],
   "source": [
    "def show_latex(latex_str, display_type='block'):\n",
    "    \"\"\"\n",
    "    Safely display LaTeX equations with automatic environment conversions.\n",
    "    \n",
    "    Args:\n",
    "        latex_str (str): The LaTeX equation string\n",
    "        display_type (str): Either 'block' or 'inline' for equation display\n",
    "    \"\"\"\n",
    "    # Common replacements for KaTeX compatibility\n",
    "    replacements = {\n",
    "        r'\\begin{eqnarray}': r'\\begin{align}',\n",
    "        r'\\end{eqnarray}': r'\\end{align}',\n",
    "        r'\\begin{eqnarray*}': r'\\begin{align*}',\n",
    "        r'\\end{eqnarray*}': r'\\end{align*}',\n",
    "    }\n",
    "    \n",
    "    # Apply all replacements\n",
    "    for old, new in replacements.items():\n",
    "        latex_str = latex_str.replace(old, new)\n",
    "    \n",
    "    # For inline equations, don't wrap in additional delimiters\n",
    "    if display_type == 'inline':\n",
    "        display(Math(latex_str))\n",
    "    else:  # For block equations\n",
    "        # If the equation isn't already wrapped in an environment, wrap it\n",
    "        if not any(env in latex_str for env in [r'\\begin{align', r'\\begin{gather', r'\\begin{cases']):\n",
    "            latex_str = latex_str.strip()\n",
    "            if not latex_str.startswith(r'\\begin{'):\n",
    "                latex_str = f'$${latex_str}$$'\n",
    "    \n",
    "    print(latex_str)\n",
    "    \n",
    "    print(\"--------------------------------\")\n",
    "    \n",
    "    display(Math(latex_str))\n",
    "\n",
    "# Example usage:\n",
    "# Single equation\n",
    "show_latex(r'E = mc^2')"
   ]
  },
  {
   "cell_type": "code",
   "execution_count": 13,
   "metadata": {},
   "outputs": [],
   "source": [
    "from IPython.display import Math, Latex, display"
   ]
  },
  {
   "cell_type": "code",
   "execution_count": 27,
   "metadata": {},
   "outputs": [
    {
     "name": "stdout",
     "output_type": "stream",
     "text": [
      "question:\n",
      "$$A game of solitaire is played with $R$ red cards, $W$ white cards, and $B$ blue cards. A player plays all the cards one at a time. With each play he accumulates a penalty. If he plays a blue card, then he is charged a penalty which is the number of white cards still in his hand. If he plays a white card, then he is charged a penalty which is twice the number of red cards still in his hand. If he plays a red card, then he is charged a penalty which is three times the number of blue cards still in his hand. Find, as a function of $R, W,$ and $B,$ the minimal total penalty a player can amass and all the ways in which this minimum can be achieved.$$\n",
      "--------------------------------\n"
     ]
    },
    {
     "data": {
      "text/latex": [
       "$\\displaystyle A game of solitaire is played with $R$ red cards, $W$ white cards, and $B$ blue cards. A player plays all the cards one at a time. With each play he accumulates a penalty. If he plays a blue card, then he is charged a penalty which is the number of white cards still in his hand. If he plays a white card, then he is charged a penalty which is twice the number of red cards still in his hand. If he plays a red card, then he is charged a penalty which is three times the number of blue cards still in his hand. Find, as a function of $R, W,$ and $B,$ the minimal total penalty a player can amass and all the ways in which this minimum can be achieved.$"
      ],
      "text/plain": [
       "<IPython.core.display.Math object>"
      ]
     },
     "metadata": {},
     "output_type": "display_data"
    },
    {
     "name": "stdout",
     "output_type": "stream",
     "text": [
      "====================================================================================================\n",
      "answer:\n",
      "$$\\min(BW, 2WR, 3RB)$$\n",
      "--------------------------------\n"
     ]
    },
    {
     "data": {
      "text/latex": [
       "$\\displaystyle \\min(BW, 2WR, 3RB)$"
      ],
      "text/plain": [
       "<IPython.core.display.Math object>"
      ]
     },
     "metadata": {},
     "output_type": "display_data"
    }
   ],
   "source": [
    "idx = 10\n",
    "\n",
    "question = data[idx][0]['value']\n",
    "answer = data[idx][1]['ground_truth']['value']\n",
    "\n",
    "print(\"question:\")\n",
    "show_latex(question)\n",
    "print(\"=\"*100)\n",
    "print(\"answer:\")\n",
    "show_latex(answer)\n"
   ]
  },
  {
   "cell_type": "code",
   "execution_count": 10,
   "metadata": {},
   "outputs": [
    {
     "data": {
      "text/plain": [
       "{'ground_truth': '-\\\\frac{2}{3}', 'style': 'rule'}"
      ]
     },
     "execution_count": 10,
     "metadata": {},
     "output_type": "execute_result"
    }
   ],
   "source": [
    "train_data[0]['reward_model']"
   ]
  },
  {
   "cell_type": "code",
   "execution_count": 11,
   "metadata": {},
   "outputs": [
    {
     "name": "stdout",
     "output_type": "stream",
     "text": [
      "--2025-02-27 09:21:46--  https://raw.githubusercontent.com/Open-Reasoner-Zero/Open-Reasoner-Zero/refs/heads/main/data/orz_math_57k_collected.json\n",
      "Resolving raw.githubusercontent.com (raw.githubusercontent.com)... 2606:50c0:8001::154, 2606:50c0:8002::154, 2606:50c0:8003::154, ...\n",
      "Connecting to raw.githubusercontent.com (raw.githubusercontent.com)|2606:50c0:8001::154|:443... connected.\n",
      "HTTP request sent, awaiting response... 200 OK\n",
      "Length: 24529637 (23M) [text/plain]\n",
      "Saving to: ‘orz_math_57k_collected.json’\n",
      "\n",
      "orz_math_57k_collec 100%[===================>]  23.39M  --.-KB/s    in 0.07s   \n",
      "\n",
      "2025-02-27 09:21:47 (356 MB/s) - ‘orz_math_57k_collected.json’ saved [24529637/24529637]\n",
      "\n"
     ]
    }
   ],
   "source": [
    "!wget https://raw.githubusercontent.com/Open-Reasoner-Zero/Open-Reasoner-Zero/refs/heads/main/data/orz_math_57k_collected.json"
   ]
  },
  {
   "cell_type": "code",
   "execution_count": null,
   "metadata": {},
   "outputs": [],
   "source": []
  }
 ],
 "metadata": {
  "kernelspec": {
   "display_name": "base",
   "language": "python",
   "name": "python3"
  },
  "language_info": {
   "codemirror_mode": {
    "name": "ipython",
    "version": 3
   },
   "file_extension": ".py",
   "mimetype": "text/x-python",
   "name": "python",
   "nbconvert_exporter": "python",
   "pygments_lexer": "ipython3",
   "version": "3.12.8"
  }
 },
 "nbformat": 4,
 "nbformat_minor": 2
}
