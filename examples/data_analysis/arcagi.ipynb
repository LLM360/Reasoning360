{
 "cells": [
  {
   "cell_type": "code",
   "execution_count": 17,
   "metadata": {},
   "outputs": [],
   "source": [
    "import pandas as pd\n",
    "import numpy as np\n",
    "import re\n",
    "import ast\n",
    "from verl.utils.reward_score.arcagi import compute_score, extract_solution, compare_solutions_with_padding"
   ]
  },
  {
   "cell_type": "code",
   "execution_count": 27,
   "metadata": {},
   "outputs": [
    {
     "name": "stdout",
     "output_type": "stream",
     "text": [
      "ARCAGI2: Correct 0.02, accuracy 0.52, scores 0.52\n"
     ]
    }
   ],
   "source": [
    "dataset1 = pd.read_parquet(\"/lustrefs/users/shibo.hao/yuexin/Reasoning360/data/train/simulation__arcagi2_652_qwen.parquet\")\n",
    "dataset2 = pd.read_parquet(\"/lustrefs/users/shibo.hao/yuexin/Reasoning360/data/train/simulation__arcagi2_652.parquet\")\n",
    "corrects = []\n",
    "accuracy = []\n",
    "scores = []\n",
    "for i in range(652):\n",
    "    answer = dataset1[\"responses\"].iloc[i]\n",
    "    answer = str(answer)\n",
    "    ground_truth = dataset2[\"reward_model\"].tolist()[i][\"ground_truth\"]\n",
    "    final_answer = extract_solution(answer)\n",
    "    is_correct, correct_percentage = compare_solutions_with_padding(final_answer, ground_truth)\n",
    "    corrects += [is_correct]\n",
    "    accuracy += [correct_percentage]\n",
    "    score = compute_score(answer, ground_truth)\n",
    "    scores += [score]\n",
    "print(f\"ARCAGI2: Correct {np.mean(corrects):.2f}, accuracy {np.mean(accuracy):.2f}, scores {np.mean(scores):.2f}\")"
   ]
  },
  {
   "cell_type": "code",
   "execution_count": 28,
   "metadata": {},
   "outputs": [
    {
     "name": "stdout",
     "output_type": "stream",
     "text": [
      "ARCAGI1: Correct 0.04, accuracy 0.53, scores 0.53\n"
     ]
    }
   ],
   "source": [
    "dataset1 = pd.read_parquet(\"/lustrefs/users/shibo.hao/yuexin/Reasoning360/data/train/simulation__arcagi1_296_qwen.parquet\")\n",
    "dataset2 = pd.read_parquet(\"/lustrefs/users/shibo.hao/yuexin/Reasoning360/data/train/simulation__arcagi1_296.parquet\")\n",
    "corrects = []\n",
    "accuracy = []\n",
    "scores = []\n",
    "for i in range(296):\n",
    "    answer = dataset1[\"responses\"].iloc[i]\n",
    "    answer = str(answer)\n",
    "    ground_truth = dataset2[\"reward_model\"].tolist()[i][\"ground_truth\"]\n",
    "    final_answer = extract_solution(answer)\n",
    "    is_correct, correct_percentage = compare_solutions_with_padding(final_answer, ground_truth)\n",
    "    corrects += [is_correct]\n",
    "    accuracy += [correct_percentage]\n",
    "    score = compute_score(answer, ground_truth)\n",
    "    scores += [score]\n",
    "print(f\"ARCAGI1: Correct {np.mean(corrects):.2f}, accuracy {np.mean(accuracy):.2f}, scores {np.mean(scores):.2f}\")"
   ]
  }
 ],
 "metadata": {
  "kernelspec": {
   "display_name": "base",
   "language": "python",
   "name": "python3"
  },
  "language_info": {
   "codemirror_mode": {
    "name": "ipython",
    "version": 3
   },
   "file_extension": ".py",
   "mimetype": "text/x-python",
   "name": "python",
   "nbconvert_exporter": "python",
   "pygments_lexer": "ipython3",
   "version": "3.12.10"
  },
  "orig_nbformat": 4
 },
 "nbformat": 4,
 "nbformat_minor": 2
}
