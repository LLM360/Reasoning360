{
 "cells": [
  {
   "cell_type": "code",
   "execution_count": 1,
   "metadata": {},
   "outputs": [],
   "source": [
    "import json\n",
    "\n",
    "data = json.load(open(\"question_output_deepscale_r.json\"))"
   ]
  },
  {
   "cell_type": "code",
   "execution_count": 2,
   "metadata": {},
   "outputs": [
    {
     "data": {
      "text/plain": [
       "{'2^{2017}': 23,\n",
       " '1': 1,\n",
       " '\\\\frac{1}{2019} \\\\binom{4036}{2018}': 2,\n",
       " '\\\\dfrac{1}{2019} \\\\dbinom{4036}{2018}': 6,\n",
       " '2018!': 11,\n",
       " '2^{n-1}': 2,\n",
       " 'None': 12,\n",
       " 'n!': 3,\n",
       " '\\\\dfrac{2018!}{2^{2017}}': 1,\n",
       " '2^{n-1} - 1': 1,\n",
       " '2^{2016}': 1,\n",
       " '(n-1)!': 1}"
      ]
     },
     "execution_count": 2,
     "metadata": {},
     "output_type": "execute_result"
    }
   ],
   "source": [
    "data[\"3762\"]"
   ]
  },
  {
   "cell_type": "code",
   "execution_count": 4,
   "metadata": {},
   "outputs": [
    {
     "data": {
      "text/plain": [
       "12"
      ]
     },
     "execution_count": 4,
     "metadata": {},
     "output_type": "execute_result"
    }
   ],
   "source": [
    "len(data[\"3762\"])"
   ]
  },
  {
   "cell_type": "code",
   "execution_count": 3,
   "metadata": {},
   "outputs": [
    {
     "name": "stderr",
     "output_type": "stream",
     "text": [
      "/mbz/users/shibo.hao/miniforge3/lib/python3.12/site-packages/tqdm/auto.py:21: TqdmWarning: IProgress not found. Please update jupyter and ipywidgets. See https://ipywidgets.readthedocs.io/en/stable/user_install.html\n",
      "  from .autonotebook import tqdm as notebook_tqdm\n",
      "2025-03-21 06:41:14,079\tINFO util.py:154 -- Missing packages: ['ipywidgets']. Run `pip install -U ipywidgets`, then restart the notebook server for rich notebook output.\n",
      "/mbz/users/shibo.hao/Reasoning360/verl/utils/reward_score/math_llm_judge/__init__.py:60: SyntaxWarning: invalid escape sequence '\\^'\n",
      "  BAD_REGEXES = [\"\\^[0-9]+\\^\", \"\\^[0-9][0-9]+\"]\n",
      "/mbz/users/shibo.hao/Reasoning360/verl/utils/reward_score/math_llm_judge/__init__.py:60: SyntaxWarning: invalid escape sequence '\\^'\n",
      "  BAD_REGEXES = [\"\\^[0-9]+\\^\", \"\\^[0-9][0-9]+\"]\n",
      "/mbz/users/shibo.hao/Reasoning360/verl/utils/reward_score/math_llm_judge/__init__.py:164: SyntaxWarning: invalid escape sequence '\\d'\n",
      "  p1 = re.compile(\"(\\d)(,)(\\d\\d\\d)($|\\D)\")\n",
      "/mbz/users/shibo.hao/Reasoning360/verl/utils/reward_score/math_llm_judge/__init__.py:179: SyntaxWarning: invalid escape sequence '\\{'\n",
      "  m = re.search(\"^\\\\\\\\text\\{(?P<text>.+?)\\}$\", expr)\n",
      "/mbz/users/shibo.hao/Reasoning360/verl/utils/reward_score/math_llm_judge/__init__.py:213: SyntaxWarning: invalid escape sequence '\\^'\n",
      "  expr = re.sub(f\"{unit}(es)?(s)? *(\\^[0-9]+)?\", \"\", expr)\n",
      "/mbz/users/shibo.hao/Reasoning360/verl/utils/reward_score/math_llm_judge/__init__.py:214: SyntaxWarning: invalid escape sequence '\\^'\n",
      "  expr = re.sub(f\"\\^ *\\\\\\\\circ\", \"\", expr)\n"
     ]
    }
   ],
   "source": [
    "from verl.utils.reward_score.math_llm_judge import grade_answer, math_equal, llm_check_answer"
   ]
  },
  {
   "cell_type": "code",
   "execution_count": 12,
   "metadata": {},
   "outputs": [],
   "source": [
    "def compute_score_with_output(extracted_model_output, ground_truth, question):\n",
    "    # grade simple algebra questions. if succeeded, return; otherwise, proceed to more complex grading\n",
    "    if extracted_model_output == \"None\":\n",
    "        return False, 1, extracted_model_output\n",
    "    \n",
    "    if grade_answer(extracted_model_output, ground_truth):\n",
    "        return True, True, extracted_model_output\n",
    "\n",
    "    try:\n",
    "        if \"\\\\pi\" in extracted_model_output or \"\\\\pi\" in ground_truth:\n",
    "            equivs = []\n",
    "            for pi in [math.pi, 3.14]:\n",
    "                equivs.append(math_equal(extracted_model_output, ground_truth, timeout=True, pi=pi))\n",
    "            is_correct = any(equivs)\n",
    "        else:\n",
    "            is_correct = math_equal(extracted_model_output, ground_truth, timeout=True)\n",
    "    except:\n",
    "        is_correct = False\n",
    "    return is_correct, 1, extracted_model_output\n",
    "    "
   ]
  },
  {
   "cell_type": "code",
   "execution_count": 7,
   "metadata": {},
   "outputs": [],
   "source": [
    "from datasets import load_dataset\n",
    "dataset = load_dataset(\"agentica-org/DeepScaleR-Preview-Dataset\",\n",
    "                      trust_remote_code=True,\n",
    "                      split='train')"
   ]
  },
  {
   "cell_type": "code",
   "execution_count": 8,
   "metadata": {},
   "outputs": [
    {
     "data": {
      "text/plain": [
       "'A tourist is learning an incorrect way to sort a permutation $(p_{1}, \\\\ldots, p_{n})$ of the integers $(1, \\\\ldots, n)$. We define a fix on two adjacent elements $p_{i}$ and $p_{i+1}$, to be an operation which swaps the two elements if $p_{i}>p_{i+1}$, and does nothing otherwise. The tourist performs $n-1$ rounds of fixes, numbered $a=1,2, \\\\ldots, n-1$. In round $a$ of fixes, the tourist fixes $p_{a}$ and $p_{a+1}$, then $p_{a+1}$ and $p_{a+2}$, and so on, up to $p_{n-1}$ and $p_{n}$. In this process, there are $(n-1)+(n-2)+\\\\cdots+1=\\\\frac{n(n-1)}{2}$ total fixes performed. How many permutations of $(1, \\\\ldots, 2018)$ can the tourist start with to obtain $(1, \\\\ldots, 2018)$ after performing these steps?'"
      ]
     },
     "execution_count": 8,
     "metadata": {},
     "output_type": "execute_result"
    }
   ],
   "source": [
    "dataset[3762]['problem']"
   ]
  },
  {
   "cell_type": "code",
   "execution_count": 9,
   "metadata": {},
   "outputs": [],
   "source": [
    "outputs = list(data[\"3762\"].keys())"
   ]
  },
  {
   "cell_type": "code",
   "execution_count": 10,
   "metadata": {},
   "outputs": [],
   "source": [
    "import contextlib\n",
    "import signal"
   ]
  },
  {
   "cell_type": "code",
   "execution_count": 11,
   "metadata": {},
   "outputs": [],
   "source": [
    "# @contextlib.contextmanager\n",
    "# def time_limit(seconds: float):\n",
    "\n",
    "#     def signal_handler(signum, frame):\n",
    "#         raise TimeoutException(\"Timed out!\")\n",
    "\n",
    "#     signal.setitimer(signal.ITIMER_REAL, seconds)\n",
    "#     signal.signal(signal.SIGALRM, signal_handler)\n",
    "#     try:\n",
    "#         yield\n",
    "#     finally:\n",
    "#         signal.setitimer(signal.ITIMER_REAL, 0)"
   ]
  },
  {
   "cell_type": "code",
   "execution_count": 12,
   "metadata": {},
   "outputs": [],
   "source": [
    "# with time_limit(10.0): \n",
    "#     print(\"a\")"
   ]
  },
  {
   "cell_type": "code",
   "execution_count": 13,
   "metadata": {},
   "outputs": [
    {
     "name": "stdout",
     "output_type": "stream",
     "text": [
      "shibo-0 (n-1)! 1009! \\cdot 1010!\n",
      "shibo-A (n-1)! 1009! \\cdot 1010!\n",
      "shibo-B (n-1)! 1009! \\cdot 1010!\n",
      "shibo-C (n-1)! 1009! \\cdot 1010!\n",
      "shibo-D (n-1)! 1009! \\cdot 1010!\n",
      "shibo-E (n-1)! 1009! \\cdot 1010!\n",
      "shibo-F (n-1)! 1009! \\cdot 1010!\n",
      "shibo-G (n-1)! 1009! \\cdot 1010!\n",
      "shibo-H (n-1)! 1009! \\cdot 1010!\n",
      "shibo-I (n-1)! 1009! \\cdot 1010!\n",
      "shibo-J (n-1)! 1009! \\cdot 1010!\n"
     ]
    }
   ],
   "source": [
    "\n",
    "is_correct, _, _ = compute_score_with_output(\n",
    "    \"(n-1)!\", \n",
    "    \"1009! \\\\cdot 1010!\",\n",
    "    \"question...\"\n",
    ")\n"
   ]
  },
  {
   "cell_type": "code",
   "execution_count": 9,
   "metadata": {},
   "outputs": [
    {
     "data": {
      "text/plain": [
       "'1009! \\\\cdot 1010!'"
      ]
     },
     "execution_count": 9,
     "metadata": {},
     "output_type": "execute_result"
    }
   ],
   "source": [
    "dataset[3762]['answer']"
   ]
  },
  {
   "cell_type": "code",
   "execution_count": 4,
   "metadata": {},
   "outputs": [
    {
     "data": {
      "text/plain": [
       "False"
      ]
     },
     "execution_count": 4,
     "metadata": {},
     "output_type": "execute_result"
    }
   ],
   "source": [
    "grade_answer(\"(n-1)!\", \"1009! \\\\cdot 1010!\", )"
   ]
  },
  {
   "cell_type": "markdown",
   "metadata": {},
   "source": []
  },
  {
   "cell_type": "code",
   "execution_count": null,
   "metadata": {},
   "outputs": [],
   "source": []
  }
 ],
 "metadata": {
  "kernelspec": {
   "display_name": "base",
   "language": "python",
   "name": "python3"
  },
  "language_info": {
   "codemirror_mode": {
    "name": "ipython",
    "version": 3
   },
   "file_extension": ".py",
   "mimetype": "text/x-python",
   "name": "python",
   "nbconvert_exporter": "python",
   "pygments_lexer": "ipython3",
   "version": "3.12.8"
  }
 },
 "nbformat": 4,
 "nbformat_minor": 2
}
