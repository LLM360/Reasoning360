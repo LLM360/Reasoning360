{
 "cells": [
  {
   "cell_type": "code",
   "execution_count": 1,
   "metadata": {},
   "outputs": [
    {
     "name": "stderr",
     "output_type": "stream",
     "text": [
      "/lustrefs/users/shibo.hao/miniforge3/envs/Reasoning360/lib/python3.12/site-packages/tqdm/auto.py:21: TqdmWarning: IProgress not found. Please update jupyter and ipywidgets. See https://ipywidgets.readthedocs.io/en/stable/user_install.html\n",
      "  from .autonotebook import tqdm as notebook_tqdm\n"
     ]
    }
   ],
   "source": [
    "import datasets"
   ]
  },
  {
   "cell_type": "code",
   "execution_count": 2,
   "metadata": {},
   "outputs": [],
   "source": [
    "# load the dataset\n",
    "import os\n",
    "os.chdir(\"../..\")\n",
    "dataset_dapo = datasets.load_from_disk(\"SDSB/deduplicated_dapo_dataset_globally_deduplicated\")\n",
    "dataset_or1 = datasets.load_from_disk(\"SDSB/or1_dataset_globally_deduplicated\")\n"
   ]
  },
  {
   "cell_type": "code",
   "execution_count": 3,
   "metadata": {},
   "outputs": [],
   "source": [
    "# find the common column\n",
    "common_columns = list(set(dataset_dapo.column_names) & set(dataset_or1.column_names))\n"
   ]
  },
  {
   "cell_type": "code",
   "execution_count": 4,
   "metadata": {},
   "outputs": [
    {
     "data": {
      "text/plain": [
       "['ability',\n",
       " 'prompt',\n",
       " 'reward_model',\n",
       " 'is_unique',\n",
       " 'data_source',\n",
       " 'extra_info',\n",
       " 'original_question']"
      ]
     },
     "execution_count": 4,
     "metadata": {},
     "output_type": "execute_result"
    }
   ],
   "source": [
    "common_columns"
   ]
  },
  {
   "cell_type": "code",
   "execution_count": 5,
   "metadata": {},
   "outputs": [],
   "source": [
    "# remove \"extra_info\"\n",
    "common_columns.remove(\"extra_info\")\n"
   ]
  },
  {
   "cell_type": "code",
   "execution_count": 6,
   "metadata": {},
   "outputs": [],
   "source": [
    "columns_to_remove_dapo = [col for col in dataset_dapo.column_names if col not in common_columns]\n",
    "columns_to_remove_or1 = [col for col in dataset_or1.column_names if col not in common_columns]\n",
    "\n",
    "dataset_dapo = dataset_dapo.remove_columns(columns_to_remove_dapo)\n",
    "dataset_or1 = dataset_or1.remove_columns(columns_to_remove_or1)"
   ]
  },
  {
   "cell_type": "code",
   "execution_count": 7,
   "metadata": {},
   "outputs": [],
   "source": [
    "\n",
    "# merge the dataset\n",
    "dataset_merged = datasets.concatenate_datasets([dataset_dapo, dataset_or1])"
   ]
  },
  {
   "cell_type": "code",
   "execution_count": 8,
   "metadata": {},
   "outputs": [
    {
     "name": "stdout",
     "output_type": "stream",
     "text": [
      "Dataset({\n",
      "    features: ['data_source', 'prompt', 'ability', 'reward_model', 'original_question', 'is_unique'],\n",
      "    num_rows: 122972\n",
      "})\n"
     ]
    },
    {
     "name": "stderr",
     "output_type": "stream",
     "text": [
      "Filter: 100%|██████████| 122972/122972 [00:02<00:00, 47484.35 examples/s]"
     ]
    },
    {
     "name": "stdout",
     "output_type": "stream",
     "text": [
      "Dataset({\n",
      "    features: ['data_source', 'prompt', 'ability', 'reward_model', 'original_question', 'is_unique'],\n",
      "    num_rows: 117192\n",
      "})\n"
     ]
    },
    {
     "name": "stderr",
     "output_type": "stream",
     "text": [
      "\n"
     ]
    }
   ],
   "source": [
    "# remove the duplicates with `.is_unique` column\n",
    "print(dataset_merged)\n",
    "dataset_merged = dataset_merged.filter(lambda x: x[\"is_unique\"])\n",
    "print(dataset_merged)"
   ]
  },
  {
   "cell_type": "code",
   "execution_count": 24,
   "metadata": {},
   "outputs": [],
   "source": [
    "# get a new dataset, with column \"question\" and \"answer\"\n",
    "# question should be the previous \"original_question\"\n",
    "# answer should be the previous x[\"reward_model\"][\"ground_truth\"]\n",
    "\n",
    "new_dataset = []\n",
    "for i in range(len(dataset_merged)):\n",
    "    new_dataset.append({\n",
    "        \"problem\": dataset_merged[i][\"original_question\"],\n",
    "        \"answer\": dataset_merged[i][\"reward_model\"][\"ground_truth\"]\n",
    "    })\n"
   ]
  },
  {
   "cell_type": "code",
   "execution_count": 25,
   "metadata": {},
   "outputs": [
    {
     "data": {
      "text/plain": [
       "117192"
      ]
     },
     "execution_count": 25,
     "metadata": {},
     "output_type": "execute_result"
    }
   ],
   "source": [
    "len(new_dataset)"
   ]
  },
  {
   "cell_type": "code",
   "execution_count": 26,
   "metadata": {},
   "outputs": [
    {
     "data": {
      "text/plain": [
       "116632"
      ]
     },
     "execution_count": 26,
     "metadata": {},
     "output_type": "execute_result"
    }
   ],
   "source": [
    "final_dataset = []\n",
    "for d in new_dataset:\n",
    "    if d['answer'].startswith(\"[\\\"\") and d['answer'].endswith(\"\\\"]\"):\n",
    "        d['answer'] = d['answer'][2:-2]\n",
    "    if len(d['answer']) < 100:\n",
    "        final_dataset.append(d)\n",
    "\n",
    "len(final_dataset)\n"
   ]
  },
  {
   "cell_type": "code",
   "execution_count": 29,
   "metadata": {},
   "outputs": [],
   "source": [
    "new_hf_dataset = datasets.Dataset.from_list(new_dataset)"
   ]
  },
  {
   "cell_type": "code",
   "execution_count": 30,
   "metadata": {},
   "outputs": [
    {
     "name": "stderr",
     "output_type": "stream",
     "text": [
      "Creating parquet from Arrow format: 100%|██████████| 118/118 [00:00<00:00, 758.67ba/s]\n",
      "Uploading the dataset shards: 100%|██████████| 1/1 [00:05<00:00,  5.04s/it]\n"
     ]
    },
    {
     "data": {
      "text/plain": [
       "CommitInfo(commit_url='https://huggingface.co/datasets/SDSB/merged_deduped_dapo_or1_dataset/commit/5b1768f6bdfd34fbd2c6421faa29259faed400bb', commit_message='Upload dataset', commit_description='', oid='5b1768f6bdfd34fbd2c6421faa29259faed400bb', pr_url=None, repo_url=RepoUrl('https://huggingface.co/datasets/SDSB/merged_deduped_dapo_or1_dataset', endpoint='https://huggingface.co', repo_type='dataset', repo_id='SDSB/merged_deduped_dapo_or1_dataset'), pr_revision=None, pr_num=None)"
      ]
     },
     "execution_count": 30,
     "metadata": {},
     "output_type": "execute_result"
    }
   ],
   "source": [
    "# upload\n",
    "new_hf_dataset.push_to_hub(\"SDSB/merged_deduped_dapo_or1_dataset\")"
   ]
  },
  {
   "cell_type": "code",
   "execution_count": null,
   "metadata": {},
   "outputs": [],
   "source": []
  }
 ],
 "metadata": {
  "kernelspec": {
   "display_name": "Reasoning360",
   "language": "python",
   "name": "python3"
  },
  "language_info": {
   "codemirror_mode": {
    "name": "ipython",
    "version": 3
   },
   "file_extension": ".py",
   "mimetype": "text/x-python",
   "name": "python",
   "nbconvert_exporter": "python",
   "pygments_lexer": "ipython3",
   "version": "3.12.10"
  }
 },
 "nbformat": 4,
 "nbformat_minor": 2
}
