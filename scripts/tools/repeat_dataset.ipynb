{
 "cells": [
  {
   "cell_type": "code",
   "execution_count": null,
   "metadata": {},
   "outputs": [],
   "source": [
    "# load the dataset https://huggingface.co/datasets/nanoverl/aime\n",
    "# repeat each question for 8 times\n",
    "# upload to my account"
   ]
  },
  {
   "cell_type": "code",
   "execution_count": 2,
   "metadata": {},
   "outputs": [],
   "source": [
    "#!/usr/bin/env python3\n",
    "# Script to load the nanoverl/aime dataset, repeat each question 8 times, and upload to Hugging Face\n",
    "\n",
    "import os\n",
    "from datasets import load_dataset, Dataset, DatasetDict\n",
    "from huggingface_hub import login, HfApi\n",
    "import pandas as pd\n",
    "import numpy as np\n",
    "\n",
    "def repeat_dataset(ds, repeat_count=8):\n",
    "    \"\"\"\n",
    "    Repeat each example in a dataset repeat_count times\n",
    "    \"\"\"\n",
    "    # Convert to pandas DataFrame for easier manipulation\n",
    "    df = ds.to_pandas()\n",
    "    \n",
    "    # Repeat each row repeat_count times\n",
    "    repeated_df = pd.DataFrame(np.repeat(df.values, repeat_count, axis=0), columns=df.columns)\n",
    "    \n",
    "    # Convert back to Hugging Face Dataset\n",
    "    return Dataset.from_pandas(repeated_df)"
   ]
  },
  {
   "cell_type": "code",
   "execution_count": 6,
   "metadata": {},
   "outputs": [
    {
     "name": "stdout",
     "output_type": "stream",
     "text": [
      "Loading dataset...\n"
     ]
    },
    {
     "name": "stdout",
     "output_type": "stream",
     "text": [
      "Dataset loaded: DatasetDict({\n",
      "    test: Dataset({\n",
      "        features: ['problem', 'answer', 'url', 'difficulty'],\n",
      "        num_rows: 83\n",
      "    })\n",
      "})\n",
      "Dataset splits: dict_keys(['test'])\n",
      "test size: 83\n"
     ]
    }
   ],
   "source": [
    "# Load the AIME dataset from Hugging Face\n",
    "print(\"Loading dataset...\")\n",
    "dataset = load_dataset(\"nanoverl/amc\")\n",
    "print(f\"Dataset loaded: {dataset}\")\n",
    "\n",
    "# Display dataset information\n",
    "print(\"Dataset splits:\", dataset.keys())\n",
    "for split in dataset.keys():\n",
    "    print(f\"{split} size: {len(dataset[split])}\")\n"
   ]
  },
  {
   "cell_type": "code",
   "execution_count": 7,
   "metadata": {},
   "outputs": [
    {
     "name": "stdout",
     "output_type": "stream",
     "text": [
      "\n",
      "Dataset columns: ['problem', 'answer', 'url', 'difficulty']\n",
      "\n",
      "First example:\n",
      "{'problem': '$\\\\frac{m}{n}$ is the Irreducible fraction value of \\\\[3+\\\\frac{1}{3+\\\\frac{1}{3+\\\\frac13}}\\\\], what is the value of $m+n$?', 'answer': 142, 'url': 'https://artofproblemsolving.com/wiki/index.php/2022_AMC_12A_Problems/Problem_1', 'difficulty': 2.0}\n",
      "\n",
      "Repeating dataset examples...\n",
      "Original test size: 83\n",
      "Repeated test size: 332\n"
     ]
    }
   ],
   "source": [
    "# Display the first example to understand the dataset structure\n",
    "print(\"\\nDataset columns:\", dataset[\"test\"].column_names)\n",
    "print(\"\\nFirst example:\")\n",
    "print(dataset[\"test\"][0])\n",
    "\n",
    "# Create the repeated datasets for each split\n",
    "print(\"\\nRepeating dataset examples...\")\n",
    "repeated_dataset = {}\n",
    "for split in dataset.keys():\n",
    "    repeated_dataset[split] = repeat_dataset(dataset[split], repeat_count=4)\n",
    "    print(f\"Original {split} size: {len(dataset[split])}\")\n",
    "    print(f\"Repeated {split} size: {len(repeated_dataset[split])}\")\n",
    "\n",
    "# Create a new dataset with the repeated data\n",
    "repeated_dataset_dict = DatasetDict(repeated_dataset)"
   ]
  },
  {
   "cell_type": "code",
   "execution_count": 8,
   "metadata": {},
   "outputs": [
    {
     "name": "stderr",
     "output_type": "stream",
     "text": [
      "Note: Environment variable`HF_TOKEN` is set and is the current active token independently from the token you've just configured.\n"
     ]
    },
    {
     "name": "stdout",
     "output_type": "stream",
     "text": [
      "\n",
      "Verifying repetition with first few examples:\n",
      "Sample 0: $\\frac{m}{n}$ is the Irreducible fraction value of \\[3+\\frac{1}{3+\\frac{1}{3+\\frac13}}\\], what is th...\n",
      "Sample 1: $\\frac{m}{n}$ is the Irreducible fraction value of \\[3+\\frac{1}{3+\\frac{1}{3+\\frac13}}\\], what is th...\n",
      "Sample 2: $\\frac{m}{n}$ is the Irreducible fraction value of \\[3+\\frac{1}{3+\\frac{1}{3+\\frac13}}\\], what is th...\n",
      "Sample 3: $\\frac{m}{n}$ is the Irreducible fraction value of \\[3+\\frac{1}{3+\\frac{1}{3+\\frac13}}\\], what is th...\n",
      "Sample 4: How many ways are there to split the integers $1$ through $14$ into $7$ pairs such that in each pair...\n",
      "Sample 5: How many ways are there to split the integers $1$ through $14$ into $7$ pairs such that in each pair...\n",
      "Sample 6: How many ways are there to split the integers $1$ through $14$ into $7$ pairs such that in each pair...\n",
      "Sample 7: How many ways are there to split the integers $1$ through $14$ into $7$ pairs such that in each pair...\n",
      "Sample 8: What is the product of all real numbers $x$ such that the distance on the number line between $\\log_...\n",
      "Sample 9: What is the product of all real numbers $x$ such that the distance on the number line between $\\log_...\n",
      "\n",
      "Logging in to Hugging Face Hub...\n",
      "\n",
      "Uploading dataset to SDSB/amc_repeated_4x...\n"
     ]
    },
    {
     "name": "stderr",
     "output_type": "stream",
     "text": [
      "Creating parquet from Arrow format: 100%|██████████| 1/1 [00:00<00:00, 1721.09ba/s]\n",
      "Uploading the dataset shards: 100%|██████████| 1/1 [00:00<00:00,  1.16it/s]\n"
     ]
    },
    {
     "name": "stdout",
     "output_type": "stream",
     "text": [
      "Dataset successfully uploaded to: https://huggingface.co/datasets/SDSB/amc_repeated_4x\n"
     ]
    }
   ],
   "source": [
    "\n",
    "# Show a few examples to verify repetition\n",
    "print(\"\\nVerifying repetition with first few examples:\")\n",
    "for i in range(min(10, len(repeated_dataset_dict['test']))):\n",
    "    print(f\"Sample {i}: {repeated_dataset_dict['test'][i]['problem'][:100]}...\")\n",
    "\n",
    "# Login to Hugging Face Hub\n",
    "print(\"\\nLogging in to Hugging Face Hub...\")\n",
    "token = os.environ.get(\"HF_TOKEN\")\n",
    "if token:\n",
    "    login(token=token)\n",
    "else:\n",
    "    login()  # Will prompt for token\n",
    "\n",
    "# Define your Hugging Face username and repository name\n",
    "username = input(\"Enter your Hugging Face username: \")\n",
    "repo_name = \"amc_repeated_4x\"\n",
    "repo_id = f\"{username}/{repo_name}\"\n",
    "\n",
    "# Push the dataset to Hugging Face Hub\n",
    "print(f\"\\nUploading dataset to {repo_id}...\")\n",
    "repeated_dataset_dict.push_to_hub(\n",
    "    repo_id,\n",
    "    private=False,  # Set to True if you want a private repository\n",
    "    commit_message=\"Upload dataset with each question repeated 4 times\"\n",
    ")\n",
    "\n",
    "print(f\"Dataset successfully uploaded to: https://huggingface.co/datasets/{repo_id}\")"
   ]
  },
  {
   "cell_type": "code",
   "execution_count": null,
   "metadata": {},
   "outputs": [],
   "source": []
  }
 ],
 "metadata": {
  "kernelspec": {
   "display_name": "base",
   "language": "python",
   "name": "python3"
  },
  "language_info": {
   "codemirror_mode": {
    "name": "ipython",
    "version": 3
   },
   "file_extension": ".py",
   "mimetype": "text/x-python",
   "name": "python",
   "nbconvert_exporter": "python",
   "pygments_lexer": "ipython3",
   "version": "3.12.8"
  }
 },
 "nbformat": 4,
 "nbformat_minor": 2
}
