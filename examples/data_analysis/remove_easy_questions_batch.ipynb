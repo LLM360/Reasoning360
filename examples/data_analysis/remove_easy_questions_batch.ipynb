{
 "cells": [
  {
   "cell_type": "code",
   "execution_count": 1,
   "metadata": {},
   "outputs": [
    {
     "name": "stderr",
     "output_type": "stream",
     "text": [
      "/mbz/users/shibo.hao/miniforge3/lib/python3.12/site-packages/tqdm/auto.py:21: TqdmWarning: IProgress not found. Please update jupyter and ipywidgets. See https://ipywidgets.readthedocs.io/en/stable/user_install.html\n",
      "  from .autonotebook import tqdm as notebook_tqdm\n"
     ]
    }
   ],
   "source": [
    "from datasets import load_dataset\n",
    "\n",
    "dataset = load_dataset(\"agentica-org/DeepScaleR-Preview-Dataset\",\n",
    "                       trust_remote_code=True,\n",
    "                       split='train')"
   ]
  },
  {
   "cell_type": "code",
   "execution_count": 3,
   "metadata": {},
   "outputs": [],
   "source": [
    "import json\n",
    "\n",
    "output_count = json.load(open(\"question_output_deepscale_r.json\"))"
   ]
  },
  {
   "cell_type": "code",
   "execution_count": 9,
   "metadata": {},
   "outputs": [
    {
     "data": {
      "text/plain": [
       "{'-\\\\dfrac{2}{3}': 64}"
      ]
     },
     "execution_count": 9,
     "metadata": {},
     "output_type": "execute_result"
    }
   ],
   "source": [
    "output_count[\"0\"]  # {\"output\": \"count\"}"
   ]
  },
  {
   "cell_type": "code",
   "execution_count": 6,
   "metadata": {},
   "outputs": [
    {
     "name": "stderr",
     "output_type": "stream",
     "text": [
      "2025-03-20 17:19:11,246\tINFO util.py:154 -- Missing packages: ['ipywidgets']. Run `pip install -U ipywidgets`, then restart the notebook server for rich notebook output.\n"
     ]
    }
   ],
   "source": [
    "from verl.utils.reward_score.math_llm_judge import grade_answer\n",
    "from verl.utils.reward_score.math_llm_judge import math_equal\n",
    "from verl.utils.reward_score.math_llm_judge import llm_check_answer\n",
    "import math\n"
   ]
  },
  {
   "cell_type": "code",
   "execution_count": 10,
   "metadata": {},
   "outputs": [],
   "source": [
    "def compute_score_with_output(extracted_model_output, ground_truth, question):\n",
    "    # grade simple algebra questions. if succeeded, return; otherwise, proceed to more complex grading\n",
    "    if grade_answer(extracted_model_output, ground_truth):\n",
    "        return True, True, extracted_model_output\n",
    "\n",
    "    try:\n",
    "        if \"\\\\pi\" in extracted_model_output or \"\\\\pi\" in ground_truth:\n",
    "            equivs = []\n",
    "            for pi in [math.pi, 3.14]:\n",
    "                equivs.append(math_equal(extracted_model_output, ground_truth, timeout=True, pi=pi))\n",
    "            is_correct = any(equivs)\n",
    "        else:\n",
    "            is_correct = math_equal(extracted_model_output, ground_truth, timeout=True)\n",
    "    except:\n",
    "        is_correct = False\n",
    "        \n",
    "    if is_matched and not is_correct:\n",
    "        # use llm to check if the answer is correct\n",
    "        try:\n",
    "            is_correct = int(ground_truth) == int(extracted_model_output)\n",
    "        except:\n",
    "            is_correct = llm_check_answer(extracted_model_output, ground_truth, question)\n",
    "\n",
    "    return is_correct, 1, extracted_model_output\n"
   ]
  },
  {
   "cell_type": "code",
   "execution_count": 32,
   "metadata": {},
   "outputs": [
    {
     "name": "stderr",
     "output_type": "stream",
     "text": [
      "  2%|▏         | 8/512 [00:00<00:46, 10.73it/s]"
     ]
    },
    {
     "name": "stdout",
     "output_type": "stream",
     "text": [
      "{'model_output': '\\\\dfrac{5}{2}', 'ground_truth': '\\\\frac{5}{3}', 'question': 'Points $A,B,C,D,E$ and $F$ lie, in that order, on $\\\\overline{AF}$, dividing it into five segments, each of length 1. Point $G$ is not on line $AF$. Point $H$ lies on $\\\\overline{GD}$, and point $J$ lies on $\\\\overline{GF}$. The line segments $\\\\overline{HC}, \\\\overline{JE},$ and $\\\\overline{AG}$ are parallel. Find $HC/JE$.', 'response': \"The student's answer is \\\\(\\\\dfrac{5}{2}\\\\), whereas the reference answer is \\\\(\\\\frac{5}{3}\\\\). These two fractions are not mathematically equivalent, as \\\\(\\\\dfrac{5}{2}\\\\) equals 2.5 and \\\\(\\\\frac{5}{3}\\\\) equals approximately 1.67. Since they do not match, the student's answer is incorrect.\\n\\nFinal Grade: INCORRECT\", 'eval_result': False}\n",
      "{'model_output': 'x = -\\\\log_{10} y', 'ground_truth': '10^{-x}', 'question': \"The graph, $G$ of $y=\\\\log_{10}x$ is rotated $90^{\\\\circ}$ counter-clockwise about the origin to obtain a new graph $G'$. What is the equation for $G'$?\", 'response': \"To grade the student's answer, we need to verify whether the equation provided by the student, \\\\(x = -\\\\log_{10} y\\\\), is equivalent to the reference answer \\\\(10^{-x}\\\\). To do so, we can manipulate the student's equation to see if it aligns with the reference answer.\\n\\nStarting from the student's equation:\\n\\\\[ x = -\\\\log_{10} y \\\\]\\n\\nWe can rewrite this as:\\n\\\\[ -x = \\\\log_{10} y \\\\]\\n\\nApplying the exponential function to both sides with base 10:\\n\\\\[ 10^{-x} = y \\\\]\\n\\nThis form matches the reference answer \\\\(10^{-x}\\\\) (where \\\\(y = 10^{-x}\\\\)). Therefore, the student's answer is mathematically equivalent to the reference answer.\\n\\nFinal Grade: CORRECT\", 'eval_result': True}\n",
      "{'model_output': 'x = -\\\\log_{10} y', 'ground_truth': '10^{-x}', 'question': \"The graph, $G$ of $y=\\\\log_{10}x$ is rotated $90^{\\\\circ}$ counter-clockwise about the origin to obtain a new graph $G'$. What is the equation for $G'$?\", 'response': \"To grade the student's answer, we first need to understand that the reference answer of $10^{-x}$ represents the equation of the graph $G'$ after rotating $y=\\\\log_{10}x$ by $90^{\\\\circ}$ counter-clockwise about the origin. \\n\\nThe student's answer is $x = -\\\\log_{10}y$. To determine if this is equivalent to the reference answer, we can manipulate the student's equation. From $x = -\\\\log_{10}y$, we can take the $10$ to the power of both sides to eliminate the logarithm: $10^x = 10^{-\\\\log_{10}y}$. Since $10^{-\\\\log_{10}y} = y^{-1} = \\\\frac{1}{y}$, the equation simplifies to $10^x = \\\\frac{1}{y}$ or $y = 10^{-x}$, which is equivalent to the reference answer of $10^{-x}$.\\n\\nFinal Grade: CORRECT\", 'eval_result': True}\n"
     ]
    },
    {
     "name": "stderr",
     "output_type": "stream",
     "text": [
      "  2%|▏         | 10/512 [00:04<04:29,  1.86it/s]"
     ]
    },
    {
     "name": "stdout",
     "output_type": "stream",
     "text": [
      "{'model_output': 'Y = 10^{-X}', 'ground_truth': '10^{-x}', 'question': \"The graph, $G$ of $y=\\\\log_{10}x$ is rotated $90^{\\\\circ}$ counter-clockwise about the origin to obtain a new graph $G'$. What is the equation for $G'$?\", 'response': \"The reference answer is \\\\(10^{-x}\\\\). The student's answer is \\\\(Y = 10^{-X}\\\\). These answers are mathematically equivalent, as they both represent the same function. The only difference is the notation for the variables, where the student used uppercase \\\\(Y\\\\) and \\\\(X\\\\), while the reference answer used lowercase. Since the mathematical content and meaning are the same, the student's answer should be considered correct.\\n\\nFinal Grade: CORRECT\", 'eval_result': True}\n",
      "{'model_output': '\\\\dfrac{8\\\\sqrt{6} - 3}{25}', 'ground_truth': '\\\\frac{1}{5}', 'question': 'A rectangular yard contains two flower beds in the shape of congruent isosceles right triangles. The remainder of the yard has a trapezoidal shape, as shown. The parallel sides of the trapezoid have lengths $15$ and $25$ meters. What fraction of the yard is occupied by the flower beds?\\n\\n[asy]\\nunitsize(2mm); defaultpen(linewidth(.8pt));\\nfill((0,0)--(0,5)--(5,5)--cycle,gray);\\nfill((25,0)--(25,5)--(20,5)--cycle,gray);\\ndraw((0,0)--(0,5)--(25,5)--(25,0)--cycle);\\ndraw((0,0)--(5,5));\\ndraw((20,5)--(25,0));\\n[/asy]', 'response': \"The student's answer is \\\\(\\\\dfrac{8\\\\sqrt{6} - 3}{25}\\\\) and the reference answer is \\\\(\\\\frac{1}{5}\\\\). To determine if the student's answer is correct, we need to see if \\\\(\\\\dfrac{8\\\\sqrt{6} - 3}{25}\\\\) simplifies to \\\\(\\\\frac{1}{5}\\\\) or if they are mathematically equivalent.\\n\\nThe student's answer and the reference answer do not match at first glance, and there is no obvious way to simplify \\\\(\\\\dfrac{8\\\\sqrt{6} - 3}{25}\\\\) to \\\\(\\\\frac{1}{5}\\\\) without additional context about the problem, which suggests that they are not mathematically equivalent.\\n\\nFinal Grade: INCORRECT\", 'eval_result': False}\n"
     ]
    },
    {
     "name": "stderr",
     "output_type": "stream",
     "text": [
      "  2%|▏         | 12/512 [00:06<05:15,  1.59it/s]"
     ]
    },
    {
     "name": "stdout",
     "output_type": "stream",
     "text": [
      "{'model_output': '\\\\dfrac{1}{4}', 'ground_truth': '\\\\frac{1}{5}', 'question': 'A rectangular yard contains two flower beds in the shape of congruent isosceles right triangles. The remainder of the yard has a trapezoidal shape, as shown. The parallel sides of the trapezoid have lengths $15$ and $25$ meters. What fraction of the yard is occupied by the flower beds?\\n\\n[asy]\\nunitsize(2mm); defaultpen(linewidth(.8pt));\\nfill((0,0)--(0,5)--(5,5)--cycle,gray);\\nfill((25,0)--(25,5)--(20,5)--cycle,gray);\\ndraw((0,0)--(0,5)--(25,5)--(25,0)--cycle);\\ndraw((0,0)--(5,5));\\ndraw((20,5)--(25,0));\\n[/asy]', 'response': \"To grade the student's answer, I compare it directly with the reference answer provided. The student's answer is \\\\(\\\\dfrac{1}{4}\\\\), whereas the reference answer is \\\\(\\\\frac{1}{5}\\\\). These two fractions are not the same, and there is no indication that they are mathematically equivalent.\\n\\nFinal Grade: INCORRECT\", 'eval_result': False}\n"
     ]
    },
    {
     "name": "stderr",
     "output_type": "stream",
     "text": [
      "  3%|▎         | 13/512 [00:06<05:10,  1.61it/s]"
     ]
    },
    {
     "name": "stdout",
     "output_type": "stream",
     "text": [
      "{'model_output': '260^\\\\circ', 'ground_truth': '380', 'question': 'What is the sum of all possible values of $t$ between $0$ and $360$ such that the triangle in the coordinate plane whose vertices are $(\\\\cos 40^\\\\circ,\\\\sin 40^\\\\circ)$, $(\\\\cos 60^\\\\circ,\\\\sin 60^\\\\circ)$, and $(\\\\cos t^\\\\circ,\\\\sin t^\\\\circ)$ is isosceles?', 'response': \"The student's answer is $260^\\\\circ$, while the reference answer provided is $380$. Since the reference answer and the student's answer are not numerically equivalent and there is no indication that the student's answer could be interpreted in a way that matches the reference answer, the student's answer is incorrect based on the criteria given.\\n\\nFinal Grade: INCORRECT\", 'eval_result': False}\n",
      "{'model_output': '15\\\\sqrt{3}', 'ground_truth': '20', 'question': 'In the adjoining figure, points $B$ and $C$ lie on line segment $AD$, and $AB, BC$, and $CD$ are diameters of circle $O, N$, and $P$, respectively. Circles $O, N$, and $P$ all have radius $15$ and the line $AG$ is tangent to circle $P$ at $G$. If $AG$ intersects circle $N$ at points $E$ and $F$, then chord $EF$ has length', 'response': \"Given the reference answer is \\\\(20\\\\) and the student's answer is \\\\(15\\\\sqrt{3}\\\\), we need to check whether these two values are equivalent or not. To do this, we need to compare the numerical values of both expressions directly since they are not obviously equivalent by inspection alone.\\n\\nThe reference answer, \\\\(20\\\\), is a simple integer. On the other hand, \\\\(15\\\\sqrt{3}\\\\) is approximately \\\\(15 \\\\times 1.732 = 25.98\\\\), which is clearly not equal to \\\\(20\\\\).\\n\\nSince there is no equivalence between \\\\(20\\\\) and \\\\(15\\\\sqrt{3}\\\\) in terms of their numerical values, we must conclude that the student's answer is incorrect.\\n\\nFinal Grade: INCORRECT\", 'eval_result': False}\n",
      "{'model_output': '15\\\\sqrt{3}', 'ground_truth': '20', 'question': 'In the adjoining figure, points $B$ and $C$ lie on line segment $AD$, and $AB, BC$, and $CD$ are diameters of circle $O, N$, and $P$, respectively. Circles $O, N$, and $P$ all have radius $15$ and the line $AG$ is tangent to circle $P$ at $G$. If $AG$ intersects circle $N$ at points $E$ and $F$, then chord $EF$ has length', 'response': 'The reference answer to the question is \"20\", while the student\\'s answer is \"15\\\\sqrt{3}\". These two answers are not mathematically equivalent, as \"20\" is a numerical value and \"15\\\\sqrt{3}\" is approximately 25.98, which does not match \"20\". \\n\\nFinal Grade: INCORRECT', 'eval_result': False}\n",
      "{'model_output': '15\\\\sqrt{3}', 'ground_truth': '20', 'question': 'In the adjoining figure, points $B$ and $C$ lie on line segment $AD$, and $AB, BC$, and $CD$ are diameters of circle $O, N$, and $P$, respectively. Circles $O, N$, and $P$ all have radius $15$ and the line $AG$ is tangent to circle $P$ at $G$. If $AG$ intersects circle $N$ at points $E$ and $F$, then chord $EF$ has length', 'response': \"Based on the provided reference answer of 20 and the student's answer of \\\\(15\\\\sqrt{3}\\\\), these two values are not the same numerically. \\\\(15\\\\sqrt{3}\\\\) is approximately 25.98, which is not equal to 20. Therefore, the student's answer does not match the reference answer.\\n\\nFinal Grade: INCORRECT\", 'eval_result': False}\n",
      "{'model_output': '15\\\\sqrt{3}', 'ground_truth': '20', 'question': 'In the adjoining figure, points $B$ and $C$ lie on line segment $AD$, and $AB, BC$, and $CD$ are diameters of circle $O, N$, and $P$, respectively. Circles $O, N$, and $P$ all have radius $15$ and the line $AG$ is tangent to circle $P$ at $G$. If $AG$ intersects circle $N$ at points $E$ and $F$, then chord $EF$ has length', 'response': \"The student's answer is \\\\(15\\\\sqrt{3}\\\\), and the reference answer is \\\\(20\\\\). These two values are not mathematically equivalent, as \\\\(15\\\\sqrt{3}\\\\) is approximately \\\\(25.98\\\\), which is different from \\\\(20\\\\).\\n\\nFinal Grade: INCORRECT\", 'eval_result': False}\n",
      "{'model_output': '10\\\\sqrt{5}', 'ground_truth': '20', 'question': 'In the adjoining figure, points $B$ and $C$ lie on line segment $AD$, and $AB, BC$, and $CD$ are diameters of circle $O, N$, and $P$, respectively. Circles $O, N$, and $P$ all have radius $15$ and the line $AG$ is tangent to circle $P$ at $G$. If $AG$ intersects circle $N$ at points $E$ and $F$, then chord $EF$ has length', 'response': \"Based on the given reference answer of 20 and the student's answer of \\\\(10\\\\sqrt{5}\\\\), the student's answer does not match the reference answer. The value \\\\(10\\\\sqrt{5}\\\\) is not equivalent to 20 in a mathematical sense, as \\\\(10\\\\sqrt{5}\\\\) is approximately 22.36, which is not equal to 20.\\n\\nFinal Grade: INCORRECT\", 'eval_result': False}\n",
      "{'model_output': '10\\\\sqrt{5}', 'ground_truth': '20', 'question': 'In the adjoining figure, points $B$ and $C$ lie on line segment $AD$, and $AB, BC$, and $CD$ are diameters of circle $O, N$, and $P$, respectively. Circles $O, N$, and $P$ all have radius $15$ and the line $AG$ is tangent to circle $P$ at $G$. If $AG$ intersects circle $N$ at points $E$ and $F$, then chord $EF$ has length', 'response': \"To grade the student's answer, I compare it directly to the reference answer provided, which is 20. The student's answer is given as \\\\(10\\\\sqrt{5}\\\\). In a mathematical context, these two values are not equivalent. Calculating \\\\(10\\\\sqrt{5}\\\\) approximately gives \\\\(22.36\\\\), which is not equal to 20.\\n\\nFinal Grade: INCORRECT\", 'eval_result': False}\n",
      "{'model_output': '10\\\\sqrt{5}', 'ground_truth': '20', 'question': 'In the adjoining figure, points $B$ and $C$ lie on line segment $AD$, and $AB, BC$, and $CD$ are diameters of circle $O, N$, and $P$, respectively. Circles $O, N$, and $P$ all have radius $15$ and the line $AG$ is tangent to circle $P$ at $G$. If $AG$ intersects circle $N$ at points $E$ and $F$, then chord $EF$ has length', 'response': \"Given the reference answer is 20 and the student's answer is \\\\(10\\\\sqrt{5}\\\\), we need to determine if these two values are mathematically equivalent. To do so, we can simplify or compare the numerical values of both expressions.\\n\\nThe reference answer is a straightforward numerical value, 20. The student's answer is \\\\(10\\\\sqrt{5}\\\\). If we approximate \\\\(10\\\\sqrt{5}\\\\), we get \\\\(10 \\\\times 2.236 = 22.36\\\\), which clearly is not equal to 20. Therefore, the student's answer and the reference answer are not equivalent.\\n\\nFinal Grade: INCORRECT\", 'eval_result': False}\n",
      "{'model_output': '10\\\\sqrt{5}', 'ground_truth': '20', 'question': 'In the adjoining figure, points $B$ and $C$ lie on line segment $AD$, and $AB, BC$, and $CD$ are diameters of circle $O, N$, and $P$, respectively. Circles $O, N$, and $P$ all have radius $15$ and the line $AG$ is tangent to circle $P$ at $G$. If $AG$ intersects circle $N$ at points $E$ and $F$, then chord $EF$ has length', 'response': 'Given the reference answer is \"20\" and the student\\'s answer is \"10\\\\sqrt{5}\", these answers are not numerically equivalent. To verify, we can note that \\\\(10\\\\sqrt{5}\\\\) is approximately \\\\(22.36\\\\), which is not equal to 20.\\n\\nFinal Grade: INCORRECT', 'eval_result': False}\n",
      "{'model_output': '10\\\\sqrt{5}', 'ground_truth': '20', 'question': 'In the adjoining figure, points $B$ and $C$ lie on line segment $AD$, and $AB, BC$, and $CD$ are diameters of circle $O, N$, and $P$, respectively. Circles $O, N$, and $P$ all have radius $15$ and the line $AG$ is tangent to circle $P$ at $G$. If $AG$ intersects circle $N$ at points $E$ and $F$, then chord $EF$ has length', 'response': 'Given the reference answer is \"20\" and the student\\'s answer is \"10\\\\sqrt{5}\", these two values are not numerically equivalent. To verify, we can approximate or simplify:\\n\\n- The reference answer \"20\" is a straightforward number.\\n- The student\\'s answer \"10\\\\sqrt{5}\" when approximated is roughly 22.36, which is clearly not equal to \"20.\"\\n\\nThus, based on the requirement that the student\\'s answer must be strictly identical to the reference answer, the student\\'s answer does not match the correct value.\\n\\nFinal Grade: INCORRECT', 'eval_result': False}\n",
      "{'model_output': '10\\\\sqrt{5}', 'ground_truth': '20', 'question': 'In the adjoining figure, points $B$ and $C$ lie on line segment $AD$, and $AB, BC$, and $CD$ are diameters of circle $O, N$, and $P$, respectively. Circles $O, N$, and $P$ all have radius $15$ and the line $AG$ is tangent to circle $P$ at $G$. If $AG$ intersects circle $N$ at points $E$ and $F$, then chord $EF$ has length', 'response': \"Given the reference answer is \\\\(20\\\\), and the student's answer is \\\\(10\\\\sqrt{5}\\\\), these two values are not equivalent in a mathematical sense because \\\\(10\\\\sqrt{5}\\\\) does not simplify to \\\\(20\\\\). The value of \\\\(10\\\\sqrt{5}\\\\) is approximately \\\\(22.36\\\\), which is clearly not equal to \\\\(20\\\\).\\n\\nFinal Grade: INCORRECT\", 'eval_result': False}\n",
      "{'model_output': '10\\\\sqrt{5}', 'ground_truth': '20', 'question': 'In the adjoining figure, points $B$ and $C$ lie on line segment $AD$, and $AB, BC$, and $CD$ are diameters of circle $O, N$, and $P$, respectively. Circles $O, N$, and $P$ all have radius $15$ and the line $AG$ is tangent to circle $P$ at $G$. If $AG$ intersects circle $N$ at points $E$ and $F$, then chord $EF$ has length', 'response': \"The reference answer for the question is given as 20, which means the correct length of the chord \\\\(EF\\\\) is 20 units. The student's answer is \\\\(10\\\\sqrt{5}\\\\). \\n\\nTo determine if the student's answer is correct, we compare it directly with the reference answer. Since \\\\(10\\\\sqrt{5}\\\\) is not equivalent to 20 (as the numerical values are different and the student's answer is not a simplified form of 20), the student's response is not correct according to the reference answer.\\n\\nFinal Grade: INCORRECT\", 'eval_result': False}\n",
      "{'model_output': '10\\\\sqrt{5}', 'ground_truth': '20', 'question': 'In the adjoining figure, points $B$ and $C$ lie on line segment $AD$, and $AB, BC$, and $CD$ are diameters of circle $O, N$, and $P$, respectively. Circles $O, N$, and $P$ all have radius $15$ and the line $AG$ is tangent to circle $P$ at $G$. If $AG$ intersects circle $N$ at points $E$ and $F$, then chord $EF$ has length', 'response': 'The reference answer provided is a numerical value \"20\", whereas the student\\'s answer is given as \"10\\\\sqrt{5}\". These two answers are not mathematically equivalent. The student\\'s answer suggests a length involving a square root, whereas the reference answer is a simple integer. Without further simplification or conversion showing equivalence, these answers represent different numerical values.\\n\\nFinal Grade: INCORRECT', 'eval_result': False}\n",
      "{'model_output': '10\\\\sqrt{5}', 'ground_truth': '20', 'question': 'In the adjoining figure, points $B$ and $C$ lie on line segment $AD$, and $AB, BC$, and $CD$ are diameters of circle $O, N$, and $P$, respectively. Circles $O, N$, and $P$ all have radius $15$ and the line $AG$ is tangent to circle $P$ at $G$. If $AG$ intersects circle $N$ at points $E$ and $F$, then chord $EF$ has length', 'response': \"The student's answer is \\\\(10\\\\sqrt{5}\\\\), while the reference answer is \\\\(20\\\\). These two expressions are not equivalent in a mathematical sense. The student's solution, \\\\(10\\\\sqrt{5}\\\\), does not simplify to \\\\(20\\\\) or vice versa. Therefore, based on the reference answer, the student's answer does not match the correct solution.\\n\\nFinal Grade: INCORRECT\", 'eval_result': False}\n",
      "{'model_output': '10\\\\sqrt{5}', 'ground_truth': '20', 'question': 'In the adjoining figure, points $B$ and $C$ lie on line segment $AD$, and $AB, BC$, and $CD$ are diameters of circle $O, N$, and $P$, respectively. Circles $O, N$, and $P$ all have radius $15$ and the line $AG$ is tangent to circle $P$ at $G$. If $AG$ intersects circle $N$ at points $E$ and $F$, then chord $EF$ has length', 'response': 'The reference answer is given as \"20\", and the student\\'s answer is \"10\\\\sqrt{5}\". To ascertain if these two answers are equivalent, we need to determine whether \\\\(10\\\\sqrt{5}\\\\) simplifies to 20 or not. \\n\\nWe know that \\\\(10\\\\sqrt{5}\\\\) cannot be simplified to 20 since \\\\(\\\\sqrt{5}\\\\) is an irrational number approximately equal to 2.236, and \\\\(10\\\\sqrt{5}\\\\) is approximately 22.36, which is not equal to 20.\\n\\nFinal Grade: INCORRECT', 'eval_result': False}\n"
     ]
    },
    {
     "name": "stderr",
     "output_type": "stream",
     "text": [
      "  3%|▎         | 13/512 [00:17<11:17,  1.36s/it]"
     ]
    },
    {
     "name": "stdout",
     "output_type": "stream",
     "text": [
      "{'model_output': '6\\\\sqrt{21}', 'ground_truth': '20', 'question': 'In the adjoining figure, points $B$ and $C$ lie on line segment $AD$, and $AB, BC$, and $CD$ are diameters of circle $O, N$, and $P$, respectively. Circles $O, N$, and $P$ all have radius $15$ and the line $AG$ is tangent to circle $P$ at $G$. If $AG$ intersects circle $N$ at points $E$ and $F$, then chord $EF$ has length', 'response': \"The reference answer given is \\\\(20\\\\), whereas the student's provided answer is \\\\(6\\\\sqrt{21}\\\\). These two values are not equivalent in a mathematical sense. Therefore, the student's answer does not match the reference answer.\\n\\nFinal Grade: INCORRECT\", 'eval_result': False}\n"
     ]
    },
    {
     "name": "stderr",
     "output_type": "stream",
     "text": [
      "\n"
     ]
    },
    {
     "ename": "KeyboardInterrupt",
     "evalue": "",
     "output_type": "error",
     "traceback": [
      "\u001b[0;31m---------------------------------------------------------------------------\u001b[0m",
      "\u001b[0;31mValueError\u001b[0m                                Traceback (most recent call last)",
      "Cell \u001b[0;32mIn[31], line 20\u001b[0m, in \u001b[0;36mcompute_score_with_output\u001b[0;34m(extracted_model_output, ground_truth, question)\u001b[0m\n\u001b[1;32m     19\u001b[0m \u001b[38;5;28;01mtry\u001b[39;00m:\n\u001b[0;32m---> 20\u001b[0m     is_correct \u001b[38;5;241m=\u001b[39m \u001b[38;5;28mint\u001b[39m(ground_truth) \u001b[38;5;241m==\u001b[39m \u001b[38;5;28;43mint\u001b[39;49m\u001b[43m(\u001b[49m\u001b[43mextracted_model_output\u001b[49m\u001b[43m)\u001b[49m\n\u001b[1;32m     21\u001b[0m \u001b[38;5;28;01mexcept\u001b[39;00m:\n",
      "\u001b[0;31mValueError\u001b[0m: invalid literal for int() with base 10: '12\\\\sqrt{6}'",
      "\nDuring handling of the above exception, another exception occurred:\n",
      "\u001b[0;31mKeyboardInterrupt\u001b[0m                         Traceback (most recent call last)",
      "Cell \u001b[0;32mIn[32], line 10\u001b[0m\n\u001b[1;32m      8\u001b[0m     \u001b[38;5;28;01mcontinue\u001b[39;00m\n\u001b[1;32m      9\u001b[0m \u001b[38;5;28;01mfor\u001b[39;00m _ \u001b[38;5;129;01min\u001b[39;00m \u001b[38;5;28mrange\u001b[39m(count):\n\u001b[0;32m---> 10\u001b[0m     is_correct, _, _ \u001b[38;5;241m=\u001b[39m \u001b[43mcompute_score_with_output\u001b[49m\u001b[43m(\u001b[49m\u001b[43moutput\u001b[49m\u001b[43m,\u001b[49m\u001b[43m \u001b[49m\u001b[43manswers\u001b[49m\u001b[43m[\u001b[49m\u001b[43mquestion_id\u001b[49m\u001b[43m]\u001b[49m\u001b[43m,\u001b[49m\u001b[43m \u001b[49m\u001b[43mquestions\u001b[49m\u001b[43m[\u001b[49m\u001b[43mquestion_id\u001b[49m\u001b[43m]\u001b[49m\u001b[43m)\u001b[49m\n\u001b[1;32m     11\u001b[0m     \u001b[38;5;28;01mif\u001b[39;00m is_correct:\n\u001b[1;32m     12\u001b[0m         correct \u001b[38;5;241m+\u001b[39m\u001b[38;5;241m=\u001b[39m \u001b[38;5;241m1\u001b[39m\n",
      "Cell \u001b[0;32mIn[31], line 22\u001b[0m, in \u001b[0;36mcompute_score_with_output\u001b[0;34m(extracted_model_output, ground_truth, question)\u001b[0m\n\u001b[1;32m     20\u001b[0m         is_correct \u001b[38;5;241m=\u001b[39m \u001b[38;5;28mint\u001b[39m(ground_truth) \u001b[38;5;241m==\u001b[39m \u001b[38;5;28mint\u001b[39m(extracted_model_output)\n\u001b[1;32m     21\u001b[0m     \u001b[38;5;28;01mexcept\u001b[39;00m:\n\u001b[0;32m---> 22\u001b[0m         is_correct \u001b[38;5;241m=\u001b[39m \u001b[43mllm_check_answer\u001b[49m\u001b[43m(\u001b[49m\u001b[43mextracted_model_output\u001b[49m\u001b[43m,\u001b[49m\u001b[43m \u001b[49m\u001b[43mground_truth\u001b[49m\u001b[43m,\u001b[49m\u001b[43m \u001b[49m\u001b[43mquestion\u001b[49m\u001b[43m)\u001b[49m\n\u001b[1;32m     24\u001b[0m \u001b[38;5;28;01mreturn\u001b[39;00m is_correct, \u001b[38;5;241m1\u001b[39m, extracted_model_output\n",
      "File \u001b[0;32m~/Reasoning360/verl/utils/reward_score/math_llm_judge/__init__.py:386\u001b[0m, in \u001b[0;36mllm_check_answer\u001b[0;34m(model_output, ground_truth, question)\u001b[0m\n\u001b[1;32m    380\u001b[0m prompt \u001b[38;5;241m=\u001b[39m input_template\u001b[38;5;241m.\u001b[39mformat(QUESTION\u001b[38;5;241m=\u001b[39mquestion, STUDENT_ANSWER\u001b[38;5;241m=\u001b[39mmodel_output, REFERENCE_ANSWER\u001b[38;5;241m=\u001b[39mground_truth)\n\u001b[1;32m    382\u001b[0m data \u001b[38;5;241m=\u001b[39m {\n\u001b[1;32m    383\u001b[0m     \u001b[38;5;124m\"\u001b[39m\u001b[38;5;124mmodel\u001b[39m\u001b[38;5;124m\"\u001b[39m: \u001b[38;5;124m\"\u001b[39m\u001b[38;5;124mQwen/Qwen2.5-32B-Instruct\u001b[39m\u001b[38;5;124m\"\u001b[39m,\n\u001b[1;32m    384\u001b[0m     \u001b[38;5;124m\"\u001b[39m\u001b[38;5;124mmessages\u001b[39m\u001b[38;5;124m\"\u001b[39m: [{\u001b[38;5;124m\"\u001b[39m\u001b[38;5;124mrole\u001b[39m\u001b[38;5;124m\"\u001b[39m: \u001b[38;5;124m\"\u001b[39m\u001b[38;5;124muser\u001b[39m\u001b[38;5;124m\"\u001b[39m, \u001b[38;5;124m\"\u001b[39m\u001b[38;5;124mcontent\u001b[39m\u001b[38;5;124m\"\u001b[39m: prompt}],\n\u001b[1;32m    385\u001b[0m }\n\u001b[0;32m--> 386\u001b[0m response \u001b[38;5;241m=\u001b[39m \u001b[43mrequests\u001b[49m\u001b[38;5;241;43m.\u001b[39;49m\u001b[43mpost\u001b[49m\u001b[43m(\u001b[49m\u001b[43murl\u001b[49m\u001b[43m,\u001b[49m\u001b[43m \u001b[49m\u001b[43mjson\u001b[49m\u001b[38;5;241;43m=\u001b[39;49m\u001b[43mdata\u001b[49m\u001b[43m)\u001b[49m\n\u001b[1;32m    387\u001b[0m eval_result \u001b[38;5;241m=\u001b[39m \u001b[38;5;129;01mnot\u001b[39;00m \u001b[38;5;124m\"\u001b[39m\u001b[38;5;124mINCORRECT\u001b[39m\u001b[38;5;124m\"\u001b[39m \u001b[38;5;129;01min\u001b[39;00m response\u001b[38;5;241m.\u001b[39mjson()[\u001b[38;5;124m'\u001b[39m\u001b[38;5;124mchoices\u001b[39m\u001b[38;5;124m'\u001b[39m][\u001b[38;5;241m0\u001b[39m][\u001b[38;5;124m'\u001b[39m\u001b[38;5;124mmessage\u001b[39m\u001b[38;5;124m'\u001b[39m][\u001b[38;5;124m'\u001b[39m\u001b[38;5;124mcontent\u001b[39m\u001b[38;5;124m'\u001b[39m]\n\u001b[1;32m    388\u001b[0m \u001b[38;5;28mprint\u001b[39m({\n\u001b[1;32m    389\u001b[0m     \u001b[38;5;124m\"\u001b[39m\u001b[38;5;124mmodel_output\u001b[39m\u001b[38;5;124m\"\u001b[39m: model_output,\n\u001b[1;32m    390\u001b[0m     \u001b[38;5;124m\"\u001b[39m\u001b[38;5;124mground_truth\u001b[39m\u001b[38;5;124m\"\u001b[39m: ground_truth,\n\u001b[0;32m   (...)\u001b[0m\n\u001b[1;32m    393\u001b[0m     \u001b[38;5;124m\"\u001b[39m\u001b[38;5;124meval_result\u001b[39m\u001b[38;5;124m\"\u001b[39m: eval_result,\n\u001b[1;32m    394\u001b[0m })\n",
      "File \u001b[0;32m~/miniforge3/lib/python3.12/site-packages/requests/api.py:115\u001b[0m, in \u001b[0;36mpost\u001b[0;34m(url, data, json, **kwargs)\u001b[0m\n\u001b[1;32m    103\u001b[0m \u001b[38;5;28;01mdef\u001b[39;00m\u001b[38;5;250m \u001b[39m\u001b[38;5;21mpost\u001b[39m(url, data\u001b[38;5;241m=\u001b[39m\u001b[38;5;28;01mNone\u001b[39;00m, json\u001b[38;5;241m=\u001b[39m\u001b[38;5;28;01mNone\u001b[39;00m, \u001b[38;5;241m*\u001b[39m\u001b[38;5;241m*\u001b[39mkwargs):\n\u001b[1;32m    104\u001b[0m \u001b[38;5;250m    \u001b[39m\u001b[38;5;124mr\u001b[39m\u001b[38;5;124;03m\"\"\"Sends a POST request.\u001b[39;00m\n\u001b[1;32m    105\u001b[0m \n\u001b[1;32m    106\u001b[0m \u001b[38;5;124;03m    :param url: URL for the new :class:`Request` object.\u001b[39;00m\n\u001b[0;32m   (...)\u001b[0m\n\u001b[1;32m    112\u001b[0m \u001b[38;5;124;03m    :rtype: requests.Response\u001b[39;00m\n\u001b[1;32m    113\u001b[0m \u001b[38;5;124;03m    \"\"\"\u001b[39;00m\n\u001b[0;32m--> 115\u001b[0m     \u001b[38;5;28;01mreturn\u001b[39;00m \u001b[43mrequest\u001b[49m\u001b[43m(\u001b[49m\u001b[38;5;124;43m\"\u001b[39;49m\u001b[38;5;124;43mpost\u001b[39;49m\u001b[38;5;124;43m\"\u001b[39;49m\u001b[43m,\u001b[49m\u001b[43m \u001b[49m\u001b[43murl\u001b[49m\u001b[43m,\u001b[49m\u001b[43m \u001b[49m\u001b[43mdata\u001b[49m\u001b[38;5;241;43m=\u001b[39;49m\u001b[43mdata\u001b[49m\u001b[43m,\u001b[49m\u001b[43m \u001b[49m\u001b[43mjson\u001b[49m\u001b[38;5;241;43m=\u001b[39;49m\u001b[43mjson\u001b[49m\u001b[43m,\u001b[49m\u001b[43m \u001b[49m\u001b[38;5;241;43m*\u001b[39;49m\u001b[38;5;241;43m*\u001b[39;49m\u001b[43mkwargs\u001b[49m\u001b[43m)\u001b[49m\n",
      "File \u001b[0;32m~/miniforge3/lib/python3.12/site-packages/requests/api.py:59\u001b[0m, in \u001b[0;36mrequest\u001b[0;34m(method, url, **kwargs)\u001b[0m\n\u001b[1;32m     55\u001b[0m \u001b[38;5;66;03m# By using the 'with' statement we are sure the session is closed, thus we\u001b[39;00m\n\u001b[1;32m     56\u001b[0m \u001b[38;5;66;03m# avoid leaving sockets open which can trigger a ResourceWarning in some\u001b[39;00m\n\u001b[1;32m     57\u001b[0m \u001b[38;5;66;03m# cases, and look like a memory leak in others.\u001b[39;00m\n\u001b[1;32m     58\u001b[0m \u001b[38;5;28;01mwith\u001b[39;00m sessions\u001b[38;5;241m.\u001b[39mSession() \u001b[38;5;28;01mas\u001b[39;00m session:\n\u001b[0;32m---> 59\u001b[0m     \u001b[38;5;28;01mreturn\u001b[39;00m \u001b[43msession\u001b[49m\u001b[38;5;241;43m.\u001b[39;49m\u001b[43mrequest\u001b[49m\u001b[43m(\u001b[49m\u001b[43mmethod\u001b[49m\u001b[38;5;241;43m=\u001b[39;49m\u001b[43mmethod\u001b[49m\u001b[43m,\u001b[49m\u001b[43m \u001b[49m\u001b[43murl\u001b[49m\u001b[38;5;241;43m=\u001b[39;49m\u001b[43murl\u001b[49m\u001b[43m,\u001b[49m\u001b[43m \u001b[49m\u001b[38;5;241;43m*\u001b[39;49m\u001b[38;5;241;43m*\u001b[39;49m\u001b[43mkwargs\u001b[49m\u001b[43m)\u001b[49m\n",
      "File \u001b[0;32m~/miniforge3/lib/python3.12/site-packages/requests/sessions.py:589\u001b[0m, in \u001b[0;36mSession.request\u001b[0;34m(self, method, url, params, data, headers, cookies, files, auth, timeout, allow_redirects, proxies, hooks, stream, verify, cert, json)\u001b[0m\n\u001b[1;32m    584\u001b[0m send_kwargs \u001b[38;5;241m=\u001b[39m {\n\u001b[1;32m    585\u001b[0m     \u001b[38;5;124m\"\u001b[39m\u001b[38;5;124mtimeout\u001b[39m\u001b[38;5;124m\"\u001b[39m: timeout,\n\u001b[1;32m    586\u001b[0m     \u001b[38;5;124m\"\u001b[39m\u001b[38;5;124mallow_redirects\u001b[39m\u001b[38;5;124m\"\u001b[39m: allow_redirects,\n\u001b[1;32m    587\u001b[0m }\n\u001b[1;32m    588\u001b[0m send_kwargs\u001b[38;5;241m.\u001b[39mupdate(settings)\n\u001b[0;32m--> 589\u001b[0m resp \u001b[38;5;241m=\u001b[39m \u001b[38;5;28;43mself\u001b[39;49m\u001b[38;5;241;43m.\u001b[39;49m\u001b[43msend\u001b[49m\u001b[43m(\u001b[49m\u001b[43mprep\u001b[49m\u001b[43m,\u001b[49m\u001b[43m \u001b[49m\u001b[38;5;241;43m*\u001b[39;49m\u001b[38;5;241;43m*\u001b[39;49m\u001b[43msend_kwargs\u001b[49m\u001b[43m)\u001b[49m\n\u001b[1;32m    591\u001b[0m \u001b[38;5;28;01mreturn\u001b[39;00m resp\n",
      "File \u001b[0;32m~/miniforge3/lib/python3.12/site-packages/requests/sessions.py:703\u001b[0m, in \u001b[0;36mSession.send\u001b[0;34m(self, request, **kwargs)\u001b[0m\n\u001b[1;32m    700\u001b[0m start \u001b[38;5;241m=\u001b[39m preferred_clock()\n\u001b[1;32m    702\u001b[0m \u001b[38;5;66;03m# Send the request\u001b[39;00m\n\u001b[0;32m--> 703\u001b[0m r \u001b[38;5;241m=\u001b[39m \u001b[43madapter\u001b[49m\u001b[38;5;241;43m.\u001b[39;49m\u001b[43msend\u001b[49m\u001b[43m(\u001b[49m\u001b[43mrequest\u001b[49m\u001b[43m,\u001b[49m\u001b[43m \u001b[49m\u001b[38;5;241;43m*\u001b[39;49m\u001b[38;5;241;43m*\u001b[39;49m\u001b[43mkwargs\u001b[49m\u001b[43m)\u001b[49m\n\u001b[1;32m    705\u001b[0m \u001b[38;5;66;03m# Total elapsed time of the request (approximately)\u001b[39;00m\n\u001b[1;32m    706\u001b[0m elapsed \u001b[38;5;241m=\u001b[39m preferred_clock() \u001b[38;5;241m-\u001b[39m start\n",
      "File \u001b[0;32m~/miniforge3/lib/python3.12/site-packages/requests/adapters.py:667\u001b[0m, in \u001b[0;36mHTTPAdapter.send\u001b[0;34m(self, request, stream, timeout, verify, cert, proxies)\u001b[0m\n\u001b[1;32m    664\u001b[0m     timeout \u001b[38;5;241m=\u001b[39m TimeoutSauce(connect\u001b[38;5;241m=\u001b[39mtimeout, read\u001b[38;5;241m=\u001b[39mtimeout)\n\u001b[1;32m    666\u001b[0m \u001b[38;5;28;01mtry\u001b[39;00m:\n\u001b[0;32m--> 667\u001b[0m     resp \u001b[38;5;241m=\u001b[39m \u001b[43mconn\u001b[49m\u001b[38;5;241;43m.\u001b[39;49m\u001b[43murlopen\u001b[49m\u001b[43m(\u001b[49m\n\u001b[1;32m    668\u001b[0m \u001b[43m        \u001b[49m\u001b[43mmethod\u001b[49m\u001b[38;5;241;43m=\u001b[39;49m\u001b[43mrequest\u001b[49m\u001b[38;5;241;43m.\u001b[39;49m\u001b[43mmethod\u001b[49m\u001b[43m,\u001b[49m\n\u001b[1;32m    669\u001b[0m \u001b[43m        \u001b[49m\u001b[43murl\u001b[49m\u001b[38;5;241;43m=\u001b[39;49m\u001b[43murl\u001b[49m\u001b[43m,\u001b[49m\n\u001b[1;32m    670\u001b[0m \u001b[43m        \u001b[49m\u001b[43mbody\u001b[49m\u001b[38;5;241;43m=\u001b[39;49m\u001b[43mrequest\u001b[49m\u001b[38;5;241;43m.\u001b[39;49m\u001b[43mbody\u001b[49m\u001b[43m,\u001b[49m\n\u001b[1;32m    671\u001b[0m \u001b[43m        \u001b[49m\u001b[43mheaders\u001b[49m\u001b[38;5;241;43m=\u001b[39;49m\u001b[43mrequest\u001b[49m\u001b[38;5;241;43m.\u001b[39;49m\u001b[43mheaders\u001b[49m\u001b[43m,\u001b[49m\n\u001b[1;32m    672\u001b[0m \u001b[43m        \u001b[49m\u001b[43mredirect\u001b[49m\u001b[38;5;241;43m=\u001b[39;49m\u001b[38;5;28;43;01mFalse\u001b[39;49;00m\u001b[43m,\u001b[49m\n\u001b[1;32m    673\u001b[0m \u001b[43m        \u001b[49m\u001b[43massert_same_host\u001b[49m\u001b[38;5;241;43m=\u001b[39;49m\u001b[38;5;28;43;01mFalse\u001b[39;49;00m\u001b[43m,\u001b[49m\n\u001b[1;32m    674\u001b[0m \u001b[43m        \u001b[49m\u001b[43mpreload_content\u001b[49m\u001b[38;5;241;43m=\u001b[39;49m\u001b[38;5;28;43;01mFalse\u001b[39;49;00m\u001b[43m,\u001b[49m\n\u001b[1;32m    675\u001b[0m \u001b[43m        \u001b[49m\u001b[43mdecode_content\u001b[49m\u001b[38;5;241;43m=\u001b[39;49m\u001b[38;5;28;43;01mFalse\u001b[39;49;00m\u001b[43m,\u001b[49m\n\u001b[1;32m    676\u001b[0m \u001b[43m        \u001b[49m\u001b[43mretries\u001b[49m\u001b[38;5;241;43m=\u001b[39;49m\u001b[38;5;28;43mself\u001b[39;49m\u001b[38;5;241;43m.\u001b[39;49m\u001b[43mmax_retries\u001b[49m\u001b[43m,\u001b[49m\n\u001b[1;32m    677\u001b[0m \u001b[43m        \u001b[49m\u001b[43mtimeout\u001b[49m\u001b[38;5;241;43m=\u001b[39;49m\u001b[43mtimeout\u001b[49m\u001b[43m,\u001b[49m\n\u001b[1;32m    678\u001b[0m \u001b[43m        \u001b[49m\u001b[43mchunked\u001b[49m\u001b[38;5;241;43m=\u001b[39;49m\u001b[43mchunked\u001b[49m\u001b[43m,\u001b[49m\n\u001b[1;32m    679\u001b[0m \u001b[43m    \u001b[49m\u001b[43m)\u001b[49m\n\u001b[1;32m    681\u001b[0m \u001b[38;5;28;01mexcept\u001b[39;00m (ProtocolError, \u001b[38;5;167;01mOSError\u001b[39;00m) \u001b[38;5;28;01mas\u001b[39;00m err:\n\u001b[1;32m    682\u001b[0m     \u001b[38;5;28;01mraise\u001b[39;00m \u001b[38;5;167;01mConnectionError\u001b[39;00m(err, request\u001b[38;5;241m=\u001b[39mrequest)\n",
      "File \u001b[0;32m~/miniforge3/lib/python3.12/site-packages/urllib3/connectionpool.py:787\u001b[0m, in \u001b[0;36mHTTPConnectionPool.urlopen\u001b[0;34m(self, method, url, body, headers, retries, redirect, assert_same_host, timeout, pool_timeout, release_conn, chunked, body_pos, preload_content, decode_content, **response_kw)\u001b[0m\n\u001b[1;32m    784\u001b[0m response_conn \u001b[38;5;241m=\u001b[39m conn \u001b[38;5;28;01mif\u001b[39;00m \u001b[38;5;129;01mnot\u001b[39;00m release_conn \u001b[38;5;28;01melse\u001b[39;00m \u001b[38;5;28;01mNone\u001b[39;00m\n\u001b[1;32m    786\u001b[0m \u001b[38;5;66;03m# Make the request on the HTTPConnection object\u001b[39;00m\n\u001b[0;32m--> 787\u001b[0m response \u001b[38;5;241m=\u001b[39m \u001b[38;5;28;43mself\u001b[39;49m\u001b[38;5;241;43m.\u001b[39;49m\u001b[43m_make_request\u001b[49m\u001b[43m(\u001b[49m\n\u001b[1;32m    788\u001b[0m \u001b[43m    \u001b[49m\u001b[43mconn\u001b[49m\u001b[43m,\u001b[49m\n\u001b[1;32m    789\u001b[0m \u001b[43m    \u001b[49m\u001b[43mmethod\u001b[49m\u001b[43m,\u001b[49m\n\u001b[1;32m    790\u001b[0m \u001b[43m    \u001b[49m\u001b[43murl\u001b[49m\u001b[43m,\u001b[49m\n\u001b[1;32m    791\u001b[0m \u001b[43m    \u001b[49m\u001b[43mtimeout\u001b[49m\u001b[38;5;241;43m=\u001b[39;49m\u001b[43mtimeout_obj\u001b[49m\u001b[43m,\u001b[49m\n\u001b[1;32m    792\u001b[0m \u001b[43m    \u001b[49m\u001b[43mbody\u001b[49m\u001b[38;5;241;43m=\u001b[39;49m\u001b[43mbody\u001b[49m\u001b[43m,\u001b[49m\n\u001b[1;32m    793\u001b[0m \u001b[43m    \u001b[49m\u001b[43mheaders\u001b[49m\u001b[38;5;241;43m=\u001b[39;49m\u001b[43mheaders\u001b[49m\u001b[43m,\u001b[49m\n\u001b[1;32m    794\u001b[0m \u001b[43m    \u001b[49m\u001b[43mchunked\u001b[49m\u001b[38;5;241;43m=\u001b[39;49m\u001b[43mchunked\u001b[49m\u001b[43m,\u001b[49m\n\u001b[1;32m    795\u001b[0m \u001b[43m    \u001b[49m\u001b[43mretries\u001b[49m\u001b[38;5;241;43m=\u001b[39;49m\u001b[43mretries\u001b[49m\u001b[43m,\u001b[49m\n\u001b[1;32m    796\u001b[0m \u001b[43m    \u001b[49m\u001b[43mresponse_conn\u001b[49m\u001b[38;5;241;43m=\u001b[39;49m\u001b[43mresponse_conn\u001b[49m\u001b[43m,\u001b[49m\n\u001b[1;32m    797\u001b[0m \u001b[43m    \u001b[49m\u001b[43mpreload_content\u001b[49m\u001b[38;5;241;43m=\u001b[39;49m\u001b[43mpreload_content\u001b[49m\u001b[43m,\u001b[49m\n\u001b[1;32m    798\u001b[0m \u001b[43m    \u001b[49m\u001b[43mdecode_content\u001b[49m\u001b[38;5;241;43m=\u001b[39;49m\u001b[43mdecode_content\u001b[49m\u001b[43m,\u001b[49m\n\u001b[1;32m    799\u001b[0m \u001b[43m    \u001b[49m\u001b[38;5;241;43m*\u001b[39;49m\u001b[38;5;241;43m*\u001b[39;49m\u001b[43mresponse_kw\u001b[49m\u001b[43m,\u001b[49m\n\u001b[1;32m    800\u001b[0m \u001b[43m\u001b[49m\u001b[43m)\u001b[49m\n\u001b[1;32m    802\u001b[0m \u001b[38;5;66;03m# Everything went great!\u001b[39;00m\n\u001b[1;32m    803\u001b[0m clean_exit \u001b[38;5;241m=\u001b[39m \u001b[38;5;28;01mTrue\u001b[39;00m\n",
      "File \u001b[0;32m~/miniforge3/lib/python3.12/site-packages/urllib3/connectionpool.py:534\u001b[0m, in \u001b[0;36mHTTPConnectionPool._make_request\u001b[0;34m(self, conn, method, url, body, headers, retries, timeout, chunked, response_conn, preload_content, decode_content, enforce_content_length)\u001b[0m\n\u001b[1;32m    532\u001b[0m \u001b[38;5;66;03m# Receive the response from the server\u001b[39;00m\n\u001b[1;32m    533\u001b[0m \u001b[38;5;28;01mtry\u001b[39;00m:\n\u001b[0;32m--> 534\u001b[0m     response \u001b[38;5;241m=\u001b[39m \u001b[43mconn\u001b[49m\u001b[38;5;241;43m.\u001b[39;49m\u001b[43mgetresponse\u001b[49m\u001b[43m(\u001b[49m\u001b[43m)\u001b[49m\n\u001b[1;32m    535\u001b[0m \u001b[38;5;28;01mexcept\u001b[39;00m (BaseSSLError, \u001b[38;5;167;01mOSError\u001b[39;00m) \u001b[38;5;28;01mas\u001b[39;00m e:\n\u001b[1;32m    536\u001b[0m     \u001b[38;5;28mself\u001b[39m\u001b[38;5;241m.\u001b[39m_raise_timeout(err\u001b[38;5;241m=\u001b[39me, url\u001b[38;5;241m=\u001b[39murl, timeout_value\u001b[38;5;241m=\u001b[39mread_timeout)\n",
      "File \u001b[0;32m~/miniforge3/lib/python3.12/site-packages/urllib3/connection.py:516\u001b[0m, in \u001b[0;36mHTTPConnection.getresponse\u001b[0;34m(self)\u001b[0m\n\u001b[1;32m    513\u001b[0m _shutdown \u001b[38;5;241m=\u001b[39m \u001b[38;5;28mgetattr\u001b[39m(\u001b[38;5;28mself\u001b[39m\u001b[38;5;241m.\u001b[39msock, \u001b[38;5;124m\"\u001b[39m\u001b[38;5;124mshutdown\u001b[39m\u001b[38;5;124m\"\u001b[39m, \u001b[38;5;28;01mNone\u001b[39;00m)\n\u001b[1;32m    515\u001b[0m \u001b[38;5;66;03m# Get the response from http.client.HTTPConnection\u001b[39;00m\n\u001b[0;32m--> 516\u001b[0m httplib_response \u001b[38;5;241m=\u001b[39m \u001b[38;5;28;43msuper\u001b[39;49m\u001b[43m(\u001b[49m\u001b[43m)\u001b[49m\u001b[38;5;241;43m.\u001b[39;49m\u001b[43mgetresponse\u001b[49m\u001b[43m(\u001b[49m\u001b[43m)\u001b[49m\n\u001b[1;32m    518\u001b[0m \u001b[38;5;28;01mtry\u001b[39;00m:\n\u001b[1;32m    519\u001b[0m     assert_header_parsing(httplib_response\u001b[38;5;241m.\u001b[39mmsg)\n",
      "File \u001b[0;32m~/miniforge3/lib/python3.12/http/client.py:1428\u001b[0m, in \u001b[0;36mHTTPConnection.getresponse\u001b[0;34m(self)\u001b[0m\n\u001b[1;32m   1426\u001b[0m \u001b[38;5;28;01mtry\u001b[39;00m:\n\u001b[1;32m   1427\u001b[0m     \u001b[38;5;28;01mtry\u001b[39;00m:\n\u001b[0;32m-> 1428\u001b[0m         \u001b[43mresponse\u001b[49m\u001b[38;5;241;43m.\u001b[39;49m\u001b[43mbegin\u001b[49m\u001b[43m(\u001b[49m\u001b[43m)\u001b[49m\n\u001b[1;32m   1429\u001b[0m     \u001b[38;5;28;01mexcept\u001b[39;00m \u001b[38;5;167;01mConnectionError\u001b[39;00m:\n\u001b[1;32m   1430\u001b[0m         \u001b[38;5;28mself\u001b[39m\u001b[38;5;241m.\u001b[39mclose()\n",
      "File \u001b[0;32m~/miniforge3/lib/python3.12/http/client.py:331\u001b[0m, in \u001b[0;36mHTTPResponse.begin\u001b[0;34m(self)\u001b[0m\n\u001b[1;32m    329\u001b[0m \u001b[38;5;66;03m# read until we get a non-100 response\u001b[39;00m\n\u001b[1;32m    330\u001b[0m \u001b[38;5;28;01mwhile\u001b[39;00m \u001b[38;5;28;01mTrue\u001b[39;00m:\n\u001b[0;32m--> 331\u001b[0m     version, status, reason \u001b[38;5;241m=\u001b[39m \u001b[38;5;28;43mself\u001b[39;49m\u001b[38;5;241;43m.\u001b[39;49m\u001b[43m_read_status\u001b[49m\u001b[43m(\u001b[49m\u001b[43m)\u001b[49m\n\u001b[1;32m    332\u001b[0m     \u001b[38;5;28;01mif\u001b[39;00m status \u001b[38;5;241m!=\u001b[39m CONTINUE:\n\u001b[1;32m    333\u001b[0m         \u001b[38;5;28;01mbreak\u001b[39;00m\n",
      "File \u001b[0;32m~/miniforge3/lib/python3.12/http/client.py:292\u001b[0m, in \u001b[0;36mHTTPResponse._read_status\u001b[0;34m(self)\u001b[0m\n\u001b[1;32m    291\u001b[0m \u001b[38;5;28;01mdef\u001b[39;00m\u001b[38;5;250m \u001b[39m\u001b[38;5;21m_read_status\u001b[39m(\u001b[38;5;28mself\u001b[39m):\n\u001b[0;32m--> 292\u001b[0m     line \u001b[38;5;241m=\u001b[39m \u001b[38;5;28mstr\u001b[39m(\u001b[38;5;28;43mself\u001b[39;49m\u001b[38;5;241;43m.\u001b[39;49m\u001b[43mfp\u001b[49m\u001b[38;5;241;43m.\u001b[39;49m\u001b[43mreadline\u001b[49m\u001b[43m(\u001b[49m\u001b[43m_MAXLINE\u001b[49m\u001b[43m \u001b[49m\u001b[38;5;241;43m+\u001b[39;49m\u001b[43m \u001b[49m\u001b[38;5;241;43m1\u001b[39;49m\u001b[43m)\u001b[49m, \u001b[38;5;124m\"\u001b[39m\u001b[38;5;124miso-8859-1\u001b[39m\u001b[38;5;124m\"\u001b[39m)\n\u001b[1;32m    293\u001b[0m     \u001b[38;5;28;01mif\u001b[39;00m \u001b[38;5;28mlen\u001b[39m(line) \u001b[38;5;241m>\u001b[39m _MAXLINE:\n\u001b[1;32m    294\u001b[0m         \u001b[38;5;28;01mraise\u001b[39;00m LineTooLong(\u001b[38;5;124m\"\u001b[39m\u001b[38;5;124mstatus line\u001b[39m\u001b[38;5;124m\"\u001b[39m)\n",
      "File \u001b[0;32m~/miniforge3/lib/python3.12/socket.py:720\u001b[0m, in \u001b[0;36mSocketIO.readinto\u001b[0;34m(self, b)\u001b[0m\n\u001b[1;32m    718\u001b[0m \u001b[38;5;28;01mwhile\u001b[39;00m \u001b[38;5;28;01mTrue\u001b[39;00m:\n\u001b[1;32m    719\u001b[0m     \u001b[38;5;28;01mtry\u001b[39;00m:\n\u001b[0;32m--> 720\u001b[0m         \u001b[38;5;28;01mreturn\u001b[39;00m \u001b[38;5;28;43mself\u001b[39;49m\u001b[38;5;241;43m.\u001b[39;49m\u001b[43m_sock\u001b[49m\u001b[38;5;241;43m.\u001b[39;49m\u001b[43mrecv_into\u001b[49m\u001b[43m(\u001b[49m\u001b[43mb\u001b[49m\u001b[43m)\u001b[49m\n\u001b[1;32m    721\u001b[0m     \u001b[38;5;28;01mexcept\u001b[39;00m timeout:\n\u001b[1;32m    722\u001b[0m         \u001b[38;5;28mself\u001b[39m\u001b[38;5;241m.\u001b[39m_timeout_occurred \u001b[38;5;241m=\u001b[39m \u001b[38;5;28;01mTrue\u001b[39;00m\n",
      "\u001b[0;31mKeyboardInterrupt\u001b[0m: "
     ]
    }
   ],
   "source": [
    "correct = 0\n",
    "total = 0\n",
    "stats = {}\n",
    "\n",
    "for question_id, outputs in tqdm(output_count.items()):\n",
    "    question_id = int(question_id)\n",
    "    saved_outputs = []\n",
    "    for output, count in outputs.items():\n",
    "        if output == \"None\":\n",
    "            saved_outputs.append((\"None\", count, False))\n",
    "        else:\n",
    "            is_correct, _, _ = compute_score_with_output(output, answers[question_id], questions[question_id])\n",
    "            saved_outputs.append((output, count, is_correct))\n",
    "    stats[question_id] = saved_outputs\n"
   ]
  },
  {
   "cell_type": "code",
   "execution_count": null,
   "metadata": {},
   "outputs": [],
   "source": [
    "result_dict = {}\n",
    "\n",
    "stats = {}\n",
    "\n",
    "for d in tqdm(data):\n",
    "    response = d['response']['body']['choices']['message']['content']\n",
    "    id = d['custom_id']\n",
    "    question_id = int(id.split(\"-\")[1])\n",
    "    sample_id = int(id.split(\"-\")[-1])\n",
    "    if question_id not in stats:\n",
    "        stats[question_id] = (0, 0)\n",
    "    \n",
    "    correct = compute_score(response, answers[question_id])[0]\n",
    "    stats[question_id] = (stats[question_id][0] + correct, stats[question_id][1] + 1)\n",
    "    matched, model_output = match_answer(response)\n",
    "    d['matched'] = matched\n",
    "    d['model_output'] = model_output\n",
    "    d['correct'] = correct\n",
    "    result_dict[f\"{question_id}-{sample_id}\"] = {\n",
    "        \"matched\": matched,\n",
    "        \"model_output\": model_output,\n",
    "        \"correct\": correct\n",
    "    }\n",
    "    "
   ]
  }
 ],
 "metadata": {
  "kernelspec": {
   "display_name": "base",
   "language": "python",
   "name": "python3"
  },
  "language_info": {
   "codemirror_mode": {
    "name": "ipython",
    "version": 3
   },
   "file_extension": ".py",
   "mimetype": "text/x-python",
   "name": "python",
   "nbconvert_exporter": "python",
   "pygments_lexer": "ipython3",
   "version": "3.12.8"
  }
 },
 "nbformat": 4,
 "nbformat_minor": 2
}
