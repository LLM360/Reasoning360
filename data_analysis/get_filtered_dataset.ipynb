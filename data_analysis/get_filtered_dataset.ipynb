{
 "cells": [
  {
   "cell_type": "code",
   "execution_count": 75,
   "metadata": {},
   "outputs": [],
   "source": [
    "import json\n",
    "\n",
    "stats_deepscale_r = json.load(open(\"deepscale_r_checkpoint.json\"))\n",
    "stats_big_math = json.load(open(\"big-math-rl-verified-checkpoint.json\"))"
   ]
  },
  {
   "cell_type": "code",
   "execution_count": 76,
   "metadata": {},
   "outputs": [],
   "source": [
    "\n",
    "from datasets import load_dataset\n",
    "\n",
    "deepscale_dataset = load_dataset('agentica-org/DeepScaleR-Preview-Dataset', 'default')\n"
   ]
  },
  {
   "cell_type": "code",
   "execution_count": 77,
   "metadata": {},
   "outputs": [],
   "source": [
    "valid_ids_deepscale = []\n",
    "for k, v in stats_deepscale_r['stats'].items():\n",
    "    if len(v) > 1:\n",
    "        valid_ids_deepscale.append(int(k))"
   ]
  },
  {
   "cell_type": "code",
   "execution_count": 78,
   "metadata": {},
   "outputs": [],
   "source": [
    "# DatasetDict\n",
    "\n",
    "from datasets import DatasetDict"
   ]
  },
  {
   "cell_type": "code",
   "execution_count": 79,
   "metadata": {},
   "outputs": [
    {
     "name": "stdout",
     "output_type": "stream",
     "text": [
      "DatasetDict({\n",
      "    train: Dataset({\n",
      "        features: ['problem', 'answer', 'solution'],\n",
      "        num_rows: 34787\n",
      "    })\n",
      "})\n"
     ]
    }
   ],
   "source": [
    "filtered_dataset_deepscale = deepscale_dataset[\"train\"].select([idx for idx in valid_ids_deepscale if idx < len(deepscale_dataset[\"train\"])])\n",
    "\n",
    "# 如果你想要重新包装成 DatasetDict\n",
    "filtered_dataset_dict_deepscale = DatasetDict({\"train\": filtered_dataset_deepscale})\n",
    "\n",
    "print(filtered_dataset_dict_deepscale)"
   ]
  },
  {
   "cell_type": "code",
   "execution_count": 80,
   "metadata": {},
   "outputs": [
    {
     "name": "stderr",
     "output_type": "stream",
     "text": [
      "Saving the dataset (1/1 shards): 100%|██████████| 34787/34787 [00:00<00:00, 196958.24 examples/s]\n",
      "Creating parquet from Arrow format: 100%|██████████| 35/35 [00:00<00:00, 76.85ba/s]\n",
      "Uploading the dataset shards: 100%|██████████| 1/1 [00:02<00:00,  2.12s/it]\n"
     ]
    },
    {
     "data": {
      "text/plain": [
       "CommitInfo(commit_url='https://huggingface.co/datasets/SDSB/deepscale_partial_mar21_filtered_basic/commit/7c1073bdfd8d2ed432da28151fe883db034b8796', commit_message='Upload dataset', commit_description='', oid='7c1073bdfd8d2ed432da28151fe883db034b8796', pr_url=None, repo_url=RepoUrl('https://huggingface.co/datasets/SDSB/deepscale_partial_mar21_filtered_basic', endpoint='https://huggingface.co', repo_type='dataset', repo_id='SDSB/deepscale_partial_mar21_filtered_basic'), pr_revision=None, pr_num=None)"
      ]
     },
     "execution_count": 80,
     "metadata": {},
     "output_type": "execute_result"
    }
   ],
   "source": [
    "\n",
    "# save the new dataset\n",
    "filtered_dataset_dict_deepscale.save_to_disk('deepscale_partial_mar21_filtered_basic.json')\n",
    "\n",
    "# upload to huggingface\n",
    "filtered_dataset_dict_deepscale.push_to_hub('deepscale_partial_mar21_filtered_basic')"
   ]
  },
  {
   "cell_type": "code",
   "execution_count": 81,
   "metadata": {},
   "outputs": [
    {
     "name": "stdout",
     "output_type": "stream",
     "text": [
      "DatasetDict({\n",
      "    train: Dataset({\n",
      "        features: ['problem', 'answer', 'source', 'domain', 'llama8b_solve_rate'],\n",
      "        num_rows: 56881\n",
      "    })\n",
      "})\n"
     ]
    }
   ],
   "source": [
    "big_math_dataset = load_dataset('SynthLabsAI/Big-Math-RL-Verified', 'default')\n",
    "\n",
    "valid_ids_big_math = []\n",
    "for k, v in stats_big_math['stats'].items():\n",
    "    if len(v) > 1:\n",
    "        valid_ids_big_math.append(int(k))\n",
    "\n",
    "# only retain the dataset with valid ids\n",
    "filtered_dataset_big_math = big_math_dataset[\"train\"].select([idx for idx in valid_ids_big_math if idx < len(big_math_dataset[\"train\"])])\n",
    "\n",
    "# 如果你想要重新包装成 DatasetDict\n",
    "filtered_dataset_dict_big_math = DatasetDict({\"train\": filtered_dataset_big_math})\n",
    "\n",
    "print(filtered_dataset_dict_big_math)\n"
   ]
  },
  {
   "cell_type": "code",
   "execution_count": 82,
   "metadata": {},
   "outputs": [
    {
     "name": "stderr",
     "output_type": "stream",
     "text": [
      "Saving the dataset (1/1 shards): 100%|██████████| 56881/56881 [00:00<00:00, 204198.21 examples/s]\n",
      "Creating parquet from Arrow format: 100%|██████████| 57/57 [00:01<00:00, 51.15ba/s]\n",
      "Uploading the dataset shards: 100%|██████████| 1/1 [00:02<00:00,  2.06s/it]\n"
     ]
    },
    {
     "data": {
      "text/plain": [
       "CommitInfo(commit_url='https://huggingface.co/datasets/SDSB/big_math_partial_mar21_filtered_basic/commit/96f2f11d37dabe7ba5cba57718c463cdbc04ab58', commit_message='Upload dataset', commit_description='', oid='96f2f11d37dabe7ba5cba57718c463cdbc04ab58', pr_url=None, repo_url=RepoUrl('https://huggingface.co/datasets/SDSB/big_math_partial_mar21_filtered_basic', endpoint='https://huggingface.co', repo_type='dataset', repo_id='SDSB/big_math_partial_mar21_filtered_basic'), pr_revision=None, pr_num=None)"
      ]
     },
     "execution_count": 82,
     "metadata": {},
     "output_type": "execute_result"
    }
   ],
   "source": [
    "# save the new dataset\n",
    "filtered_dataset_dict_big_math.save_to_disk('big_math_partial_mar21_filtered_basic.json')\n",
    "\n",
    "# upload to huggingface\n",
    "filtered_dataset_dict_big_math.push_to_hub('big_math_partial_mar21_filtered_basic')\n"
   ]
  },
  {
   "cell_type": "code",
   "execution_count": 9,
   "metadata": {},
   "outputs": [
    {
     "data": {
      "image/png": "[encoded data removed]",
      "text/plain": [
       "<Figure size 640x480 with 1 Axes>"
      ]
     },
     "metadata": {},
     "output_type": "display_data"
    }
   ],
   "source": [
    "import matplotlib.pyplot as plt\n",
    "\n",
    "plt.hist(cnt, bins=100)\n",
    "plt.show()\n"
   ]
  }
 ],
 "metadata": {
  "kernelspec": {
   "display_name": "base",
   "language": "python",
   "name": "python3"
  },
  "language_info": {
   "codemirror_mode": {
    "name": "ipython",
    "version": 3
   },
   "file_extension": ".py",
   "mimetype": "text/x-python",
   "name": "python",
   "nbconvert_exporter": "python",
   "pygments_lexer": "ipython3",
   "version": "3.12.8"
  }
 },
 "nbformat": 4,
 "nbformat_minor": 2
}
